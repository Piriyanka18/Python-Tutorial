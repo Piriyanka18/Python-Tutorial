{
 "cells": [
  {
   "cell_type": "markdown",
   "id": "8a05619e",
   "metadata": {},
   "source": [
    "## A Guessing Game While loop"
   ]
  },
  {
   "cell_type": "code",
   "execution_count": 2,
   "id": "5549e4df",
   "metadata": {},
   "outputs": [
    {
     "name": "stdout",
     "output_type": "stream",
     "text": [
      "Enter your guess: 12\n",
      "number too small\n",
      "Enter your guess: 20\n",
      "Congratulation . you made it\n"
     ]
    }
   ],
   "source": [
    "import random\n",
    "n=20\n",
    "to_be_gussed =int(n*random.random())+1\n",
    "guess =0\n",
    "while guess != to_be_gussed:\n",
    "    guess = int(input(\"Enter your guess: \"))\n",
    "    if guess>0:\n",
    "        if guess >to_be_gussed:\n",
    "            print(\" number too larege\")\n",
    "        elif guess<to_be_gussed:\n",
    "            print(\"number too small\")\n",
    "    else:\n",
    "        print(\"sorry that you're giving up!\")\n",
    "        break\n",
    "else:\n",
    "    print(\"Congratulation . you made it\")"
   ]
  },
  {
   "cell_type": "code",
   "execution_count": 3,
   "id": "bafd9001",
   "metadata": {},
   "outputs": [
    {
     "name": "stdout",
     "output_type": "stream",
     "text": [
      "current fruit: Mango\n",
      "current fruit: Banana\n",
      "current fruit: Apple\n",
      "Good bye\n"
     ]
    }
   ],
   "source": [
    "fruits=['Mango','Banana','Apple']\n",
    "\n",
    "for fruit in fruits:\n",
    "    print(\"current fruit:\",fruit)\n",
    "print(\"Good bye\")"
   ]
  },
  {
   "cell_type": "markdown",
   "id": "2620f3f0",
   "metadata": {},
   "source": [
    "## Factorial"
   ]
  },
  {
   "cell_type": "code",
   "execution_count": 6,
   "id": "d155d636",
   "metadata": {},
   "outputs": [
    {
     "name": "stdout",
     "output_type": "stream",
     "text": [
      "Numbers: 0\n",
      "factorial =1\n"
     ]
    }
   ],
   "source": [
    "num =int(input(\"Numbers: \"))\n",
    "factorial =1\n",
    "\n",
    "if num <0:\n",
    "    print(\"Must be postive\")\n",
    "elif num ==0:\n",
    "    print(\"factorial =1\")\n",
    "else:\n",
    "    for i in range(1,num+1):\n",
    "        factorial =factorial*i\n",
    "    print(factorial)"
   ]
  },
  {
   "cell_type": "markdown",
   "id": "02a95880",
   "metadata": {},
   "source": [
    "## Nested Loop Example \n",
    "### Bank ATM\n",
    "####  Enter the 4 digit pin \n",
    "#### check balane, Make a withdrwal,Pay in,Return Card"
   ]
  },
  {
   "cell_type": "code",
   "execution_count": 16,
   "id": "fce0a5ef",
   "metadata": {},
   "outputs": [
    {
     "name": "stdout",
     "output_type": "stream",
     "text": [
      "Wlcome to BOC Bank ATM\n",
      "Pleace Enter Your 4 Digit Pin Number:1254\n",
      "Incorrect Pin\n",
      "Pleace Enter Your 4 Digit Pin Number:1258\n",
      "Incorrect Pin\n",
      "Pleace Enter Your 4 Digit Pin Number:15874\n",
      "Incorrect Pin\n",
      "Nor M0re try\n"
     ]
    }
   ],
   "source": [
    "print('Wlcome to BOC Bank ATM')\n",
    "restart=('Y')\n",
    "chances=3\n",
    "balance=70.14\n",
    "while chances >=0:\n",
    "    pin = int(input(\"Pleace Enter Your 4 Digit Pin Number:\"))\n",
    "    if pin ==(1234):\n",
    "        print(\"you entred your pin correct\\n\")\n",
    "        while restart not in ('n','no','N','NO'):\n",
    "            print(\"Please press 1 for your balance \\n\")\n",
    "            print(\"Please press 2 for Make a withdrawal \\n\")\n",
    "            print(\"Please press 3 for pay in \\n\")\n",
    "            print(\"Please press 4 foReturn card\\n\")\n",
    "            option = int(input(\"What would you like to choose?:\"))\n",
    "            if option ==1:\n",
    "                print(\"you account balance is \",balance, '\\n')\n",
    "                restart=input(\"Would you like to go back?\")\n",
    "                if restart not in ('n','no','N','NO'):\n",
    "                    print(\"Thank You\")\n",
    "                    break\n",
    "                    \n",
    "                    \n",
    "            elif option==2:\n",
    "                option2 =('y')\n",
    "                withdrawl = float(input(\"How much would you like to withdrwal \\n 10/20/30/60/100\"))\n",
    "                if withdrawl in [10,20,30,60,100]:\n",
    "                    balance= balance- withdrawl\n",
    "                    print(\"\\n your balance is now\",balance)\n",
    "                    restart=input(\"Would you like to go back?\")\n",
    "                    if restart not in ('n','no','N','NO'):\n",
    "                        print(\"Thank You\")\n",
    "                        break\n",
    "                elif withdrawl != [10,20,30,60,100]:\n",
    "                    print(\"Invalid Amount, please Re-try \\n\")\n",
    "                    restart=(\"Y\")\n",
    "                elif withdrawl ==1:\n",
    "                    withdrawl =float(input('Please Entere Desired Amount:'))\n",
    "                    \n",
    "                    \n",
    "            elif option==3:\n",
    "                pay_in =float(input(\"How mutch would you like pay in? :\"))\n",
    "                balance = balance + pay_in\n",
    "                print(\"\\n your balnce is now \", balance)\n",
    "                restart=input(\"Would you like to go back?\")\n",
    "                if restart not in ('n','no','N','NO'):\n",
    "                    print(\"Thank You\")\n",
    "                    break\n",
    "            elif option ==4:\n",
    "                print(\"please wait whilst your card is returnd....\\n\")\n",
    "                print(\" Thank you for your service\")\n",
    "                break\n",
    "            else: \n",
    "                print(\"Plese Entre correct number. \\n\")\n",
    "                restart =(\"Y\")\n",
    "    elif pin !=(1234):\n",
    "        print(\"Incorrect Pin\")\n",
    "        chances = chances-1\n",
    "        if chances ==0:\n",
    "            print(\"Nor M0re try\")\n",
    "            break\n",
    "    \n",
    "        \n",
    "            \n",
    "                    \n",
    "                \n",
    "                \n",
    "                \n",
    "        "
   ]
  },
  {
   "cell_type": "markdown",
   "id": "a5f45376",
   "metadata": {},
   "source": [
    "### Nested For\n"
   ]
  },
  {
   "cell_type": "code",
   "execution_count": 19,
   "id": "f5260cbe",
   "metadata": {},
   "outputs": [
    {
     "name": "stdout",
     "output_type": "stream",
     "text": [
      "Maximal Number: 12\n",
      "3 4 5\n",
      "6 8 10\n"
     ]
    }
   ],
   "source": [
    "from math import sqrt\n",
    "\n",
    "n = int(input(\"Maximal Number: \"))\n",
    "\n",
    "for a in range(1, n+1):\n",
    "    for b in range(a, n):\n",
    "        csquare = a**2 + b**2\n",
    "        c = int(sqrt(csquare))\n",
    "        if (c**2 == csquare):\n",
    "            print(a, b, c)\n"
   ]
  },
  {
   "cell_type": "markdown",
   "id": "f5044e01",
   "metadata": {},
   "source": [
    "### Nested while foe loops"
   ]
  },
  {
   "cell_type": "code",
   "execution_count": null,
   "id": "72c3f8b4",
   "metadata": {},
   "outputs": [],
   "source": [
    "travelling = input('Yes or No:')\n",
    "while travelling == \"Yes\":\n",
    "    num = int(input(\"number of people travelling:\"))\n",
    "    for num in range (1, num+1):\n",
    "        Name = input(\"Name :\")\n",
    "        Age =int(input(\"Age:\"))\n",
    "        Sex =input(\"Sex: \")\n",
    "                   \n",
    "        print(Name)\n",
    "        print(Age)\n",
    "        print(Sex)\n",
    "    \n",
    "                   \n",
    "travelling = input(\"Oops! forgot someone:\")"
   ]
  },
  {
   "cell_type": "code",
   "execution_count": null,
   "id": "c41591b4",
   "metadata": {},
   "outputs": [],
   "source": []
  }
 ],
 "metadata": {
  "kernelspec": {
   "display_name": "Python 3 (ipykernel)",
   "language": "python",
   "name": "python3"
  },
  "language_info": {
   "codemirror_mode": {
    "name": "ipython",
    "version": 3
   },
   "file_extension": ".py",
   "mimetype": "text/x-python",
   "name": "python",
   "nbconvert_exporter": "python",
   "pygments_lexer": "ipython3",
   "version": "3.9.13"
  }
 },
 "nbformat": 4,
 "nbformat_minor": 5
}
