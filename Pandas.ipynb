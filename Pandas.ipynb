{
 "cells": [
  {
   "cell_type": "code",
   "execution_count": 1,
   "id": "94b3047c",
   "metadata": {},
   "outputs": [
    {
     "name": "stdout",
     "output_type": "stream",
     "text": [
      "Defaulting to user installation because normal site-packages is not writeable\n",
      "Requirement already satisfied: pandas in c:\\programdata\\anaconda3\\lib\\site-packages (1.4.4)\n",
      "Requirement already satisfied: numpy>=1.18.5 in c:\\programdata\\anaconda3\\lib\\site-packages (from pandas) (1.21.5)\n",
      "Requirement already satisfied: pytz>=2020.1 in c:\\programdata\\anaconda3\\lib\\site-packages (from pandas) (2022.1)\n",
      "Requirement already satisfied: python-dateutil>=2.8.1 in c:\\programdata\\anaconda3\\lib\\site-packages (from pandas) (2.8.2)\n",
      "Requirement already satisfied: six>=1.5 in c:\\programdata\\anaconda3\\lib\\site-packages (from python-dateutil>=2.8.1->pandas) (1.16.0)\n"
     ]
    }
   ],
   "source": [
    "!pip install pandas\n"
   ]
  },
  {
   "cell_type": "code",
   "execution_count": 2,
   "id": "b8f3b465",
   "metadata": {},
   "outputs": [],
   "source": [
    "import pandas as pd"
   ]
  },
  {
   "cell_type": "markdown",
   "id": "c5ccdb84",
   "metadata": {},
   "source": [
    "# pandas data table representation"
   ]
  },
  {
   "cell_type": "code",
   "execution_count": 3,
   "id": "8d657a5f",
   "metadata": {},
   "outputs": [],
   "source": [
    "df = pd.DataFrame({\"Name\":[\"Raja\",\"Piriya\",\"Diva\",\"Raam\"],\n",
    "                    \"Age\":[29,27,28,29],\n",
    "                     \"Sex\":[\"Male\",\"Female\",\"Male\",\"Female\"]})"
   ]
  },
  {
   "cell_type": "code",
   "execution_count": 4,
   "id": "604f797c",
   "metadata": {},
   "outputs": [
    {
     "data": {
      "text/html": [
       "<div>\n",
       "<style scoped>\n",
       "    .dataframe tbody tr th:only-of-type {\n",
       "        vertical-align: middle;\n",
       "    }\n",
       "\n",
       "    .dataframe tbody tr th {\n",
       "        vertical-align: top;\n",
       "    }\n",
       "\n",
       "    .dataframe thead th {\n",
       "        text-align: right;\n",
       "    }\n",
       "</style>\n",
       "<table border=\"1\" class=\"dataframe\">\n",
       "  <thead>\n",
       "    <tr style=\"text-align: right;\">\n",
       "      <th></th>\n",
       "      <th>Name</th>\n",
       "      <th>Age</th>\n",
       "      <th>Sex</th>\n",
       "    </tr>\n",
       "  </thead>\n",
       "  <tbody>\n",
       "    <tr>\n",
       "      <th>0</th>\n",
       "      <td>Raja</td>\n",
       "      <td>29</td>\n",
       "      <td>Male</td>\n",
       "    </tr>\n",
       "    <tr>\n",
       "      <th>1</th>\n",
       "      <td>Piriya</td>\n",
       "      <td>27</td>\n",
       "      <td>Female</td>\n",
       "    </tr>\n",
       "    <tr>\n",
       "      <th>2</th>\n",
       "      <td>Diva</td>\n",
       "      <td>28</td>\n",
       "      <td>Male</td>\n",
       "    </tr>\n",
       "    <tr>\n",
       "      <th>3</th>\n",
       "      <td>Raam</td>\n",
       "      <td>29</td>\n",
       "      <td>Female</td>\n",
       "    </tr>\n",
       "  </tbody>\n",
       "</table>\n",
       "</div>"
      ],
      "text/plain": [
       "     Name  Age     Sex\n",
       "0    Raja   29    Male\n",
       "1  Piriya   27  Female\n",
       "2    Diva   28    Male\n",
       "3    Raam   29  Female"
      ]
     },
     "execution_count": 4,
     "metadata": {},
     "output_type": "execute_result"
    }
   ],
   "source": [
    "df"
   ]
  },
  {
   "cell_type": "code",
   "execution_count": 13,
   "id": "dc7f6daf",
   "metadata": {},
   "outputs": [
    {
     "data": {
      "text/html": [
       "<div>\n",
       "<style scoped>\n",
       "    .dataframe tbody tr th:only-of-type {\n",
       "        vertical-align: middle;\n",
       "    }\n",
       "\n",
       "    .dataframe tbody tr th {\n",
       "        vertical-align: top;\n",
       "    }\n",
       "\n",
       "    .dataframe thead th {\n",
       "        text-align: right;\n",
       "    }\n",
       "</style>\n",
       "<table border=\"1\" class=\"dataframe\">\n",
       "  <thead>\n",
       "    <tr style=\"text-align: right;\">\n",
       "      <th></th>\n",
       "      <th>Age</th>\n",
       "    </tr>\n",
       "  </thead>\n",
       "  <tbody>\n",
       "    <tr>\n",
       "      <th>0</th>\n",
       "      <td>29</td>\n",
       "    </tr>\n",
       "    <tr>\n",
       "      <th>1</th>\n",
       "      <td>27</td>\n",
       "    </tr>\n",
       "    <tr>\n",
       "      <th>2</th>\n",
       "      <td>28</td>\n",
       "    </tr>\n",
       "    <tr>\n",
       "      <th>3</th>\n",
       "      <td>29</td>\n",
       "    </tr>\n",
       "  </tbody>\n",
       "</table>\n",
       "</div>"
      ],
      "text/plain": [
       "   Age\n",
       "0   29\n",
       "1   27\n",
       "2   28\n",
       "3   29"
      ]
     },
     "execution_count": 13,
     "metadata": {},
     "output_type": "execute_result"
    }
   ],
   "source": [
    "df[[\"Age\"]]"
   ]
  },
  {
   "cell_type": "code",
   "execution_count": 12,
   "id": "4bdae9f0",
   "metadata": {},
   "outputs": [
    {
     "data": {
      "text/html": [
       "<div>\n",
       "<style scoped>\n",
       "    .dataframe tbody tr th:only-of-type {\n",
       "        vertical-align: middle;\n",
       "    }\n",
       "\n",
       "    .dataframe tbody tr th {\n",
       "        vertical-align: top;\n",
       "    }\n",
       "\n",
       "    .dataframe thead th {\n",
       "        text-align: right;\n",
       "    }\n",
       "</style>\n",
       "<table border=\"1\" class=\"dataframe\">\n",
       "  <thead>\n",
       "    <tr style=\"text-align: right;\">\n",
       "      <th></th>\n",
       "      <th>Name</th>\n",
       "      <th>Age</th>\n",
       "    </tr>\n",
       "  </thead>\n",
       "  <tbody>\n",
       "    <tr>\n",
       "      <th>0</th>\n",
       "      <td>Raja</td>\n",
       "      <td>29</td>\n",
       "    </tr>\n",
       "    <tr>\n",
       "      <th>1</th>\n",
       "      <td>Piriya</td>\n",
       "      <td>27</td>\n",
       "    </tr>\n",
       "    <tr>\n",
       "      <th>2</th>\n",
       "      <td>Diva</td>\n",
       "      <td>28</td>\n",
       "    </tr>\n",
       "    <tr>\n",
       "      <th>3</th>\n",
       "      <td>Raam</td>\n",
       "      <td>29</td>\n",
       "    </tr>\n",
       "  </tbody>\n",
       "</table>\n",
       "</div>"
      ],
      "text/plain": [
       "     Name  Age\n",
       "0    Raja   29\n",
       "1  Piriya   27\n",
       "2    Diva   28\n",
       "3    Raam   29"
      ]
     },
     "execution_count": 12,
     "metadata": {},
     "output_type": "execute_result"
    }
   ],
   "source": [
    "df[[\"Name\",\"Age\"]]"
   ]
  },
  {
   "cell_type": "code",
   "execution_count": 16,
   "id": "03bf00b3",
   "metadata": {},
   "outputs": [
    {
     "data": {
      "text/plain": [
       "Name    object\n",
       "Age      int64\n",
       "Sex     object\n",
       "dtype: object"
      ]
     },
     "execution_count": 16,
     "metadata": {},
     "output_type": "execute_result"
    }
   ],
   "source": [
    "df.dtypes"
   ]
  },
  {
   "cell_type": "code",
   "execution_count": 18,
   "id": "501ecb40",
   "metadata": {},
   "outputs": [],
   "source": [
    "ages=pd.Series([34,78,98,78],name=\"Age\")"
   ]
  },
  {
   "cell_type": "code",
   "execution_count": 19,
   "id": "79a83ba1",
   "metadata": {},
   "outputs": [
    {
     "data": {
      "text/plain": [
       "0    34\n",
       "1    78\n",
       "2    98\n",
       "3    78\n",
       "Name: Age, dtype: int64"
      ]
     },
     "execution_count": 19,
     "metadata": {},
     "output_type": "execute_result"
    }
   ],
   "source": [
    "ages"
   ]
  },
  {
   "cell_type": "code",
   "execution_count": 21,
   "id": "93ff30b0",
   "metadata": {},
   "outputs": [
    {
     "data": {
      "text/plain": [
       "98"
      ]
     },
     "execution_count": 21,
     "metadata": {},
     "output_type": "execute_result"
    }
   ],
   "source": [
    "ages.max()"
   ]
  },
  {
   "cell_type": "code",
   "execution_count": 22,
   "id": "82052002",
   "metadata": {},
   "outputs": [
    {
     "data": {
      "text/plain": [
       "29"
      ]
     },
     "execution_count": 22,
     "metadata": {},
     "output_type": "execute_result"
    }
   ],
   "source": [
    "df[\"Age\"].max()"
   ]
  },
  {
   "cell_type": "code",
   "execution_count": 23,
   "id": "8cfbac6a",
   "metadata": {},
   "outputs": [
    {
     "data": {
      "text/html": [
       "<div>\n",
       "<style scoped>\n",
       "    .dataframe tbody tr th:only-of-type {\n",
       "        vertical-align: middle;\n",
       "    }\n",
       "\n",
       "    .dataframe tbody tr th {\n",
       "        vertical-align: top;\n",
       "    }\n",
       "\n",
       "    .dataframe thead th {\n",
       "        text-align: right;\n",
       "    }\n",
       "</style>\n",
       "<table border=\"1\" class=\"dataframe\">\n",
       "  <thead>\n",
       "    <tr style=\"text-align: right;\">\n",
       "      <th></th>\n",
       "      <th>Age</th>\n",
       "    </tr>\n",
       "  </thead>\n",
       "  <tbody>\n",
       "    <tr>\n",
       "      <th>count</th>\n",
       "      <td>4.000000</td>\n",
       "    </tr>\n",
       "    <tr>\n",
       "      <th>mean</th>\n",
       "      <td>28.250000</td>\n",
       "    </tr>\n",
       "    <tr>\n",
       "      <th>std</th>\n",
       "      <td>0.957427</td>\n",
       "    </tr>\n",
       "    <tr>\n",
       "      <th>min</th>\n",
       "      <td>27.000000</td>\n",
       "    </tr>\n",
       "    <tr>\n",
       "      <th>25%</th>\n",
       "      <td>27.750000</td>\n",
       "    </tr>\n",
       "    <tr>\n",
       "      <th>50%</th>\n",
       "      <td>28.500000</td>\n",
       "    </tr>\n",
       "    <tr>\n",
       "      <th>75%</th>\n",
       "      <td>29.000000</td>\n",
       "    </tr>\n",
       "    <tr>\n",
       "      <th>max</th>\n",
       "      <td>29.000000</td>\n",
       "    </tr>\n",
       "  </tbody>\n",
       "</table>\n",
       "</div>"
      ],
      "text/plain": [
       "             Age\n",
       "count   4.000000\n",
       "mean   28.250000\n",
       "std     0.957427\n",
       "min    27.000000\n",
       "25%    27.750000\n",
       "50%    28.500000\n",
       "75%    29.000000\n",
       "max    29.000000"
      ]
     },
     "execution_count": 23,
     "metadata": {},
     "output_type": "execute_result"
    }
   ],
   "source": [
    "df.describe()"
   ]
  },
  {
   "cell_type": "code",
   "execution_count": 24,
   "id": "5dc43bfd",
   "metadata": {},
   "outputs": [
    {
     "data": {
      "text/plain": [
       "count     4.000000\n",
       "mean     72.000000\n",
       "std      27.030847\n",
       "min      34.000000\n",
       "25%      67.000000\n",
       "50%      78.000000\n",
       "75%      83.000000\n",
       "max      98.000000\n",
       "Name: Age, dtype: float64"
      ]
     },
     "execution_count": 24,
     "metadata": {},
     "output_type": "execute_result"
    }
   ],
   "source": [
    "ages.describe()"
   ]
  },
  {
   "cell_type": "code",
   "execution_count": 26,
   "id": "305d01e2",
   "metadata": {},
   "outputs": [
    {
     "data": {
      "text/plain": [
       "12"
      ]
     },
     "execution_count": 26,
     "metadata": {},
     "output_type": "execute_result"
    }
   ],
   "source": [
    "df.size"
   ]
  },
  {
   "cell_type": "code",
   "execution_count": 27,
   "id": "f6053f9b",
   "metadata": {},
   "outputs": [
    {
     "data": {
      "text/plain": [
       "(4, 3)"
      ]
     },
     "execution_count": 27,
     "metadata": {},
     "output_type": "execute_result"
    }
   ],
   "source": [
    "df.shape"
   ]
  },
  {
   "cell_type": "code",
   "execution_count": 32,
   "id": "90a88f82",
   "metadata": {},
   "outputs": [],
   "source": [
    "sample = pd.read_csv(r\"F:\\Download_Notes\\PowerBI\\1. AdventureWorks-Products.csv\")\n"
   ]
  },
  {
   "cell_type": "code",
   "execution_count": 34,
   "id": "6985a4fb",
   "metadata": {},
   "outputs": [
    {
     "data": {
      "text/html": [
       "<div>\n",
       "<style scoped>\n",
       "    .dataframe tbody tr th:only-of-type {\n",
       "        vertical-align: middle;\n",
       "    }\n",
       "\n",
       "    .dataframe tbody tr th {\n",
       "        vertical-align: top;\n",
       "    }\n",
       "\n",
       "    .dataframe thead th {\n",
       "        text-align: right;\n",
       "    }\n",
       "</style>\n",
       "<table border=\"1\" class=\"dataframe\">\n",
       "  <thead>\n",
       "    <tr style=\"text-align: right;\">\n",
       "      <th></th>\n",
       "      <th>ProductKey</th>\n",
       "      <th>ProductSubcategoryKey</th>\n",
       "      <th>ProductSKU</th>\n",
       "      <th>ProductName</th>\n",
       "      <th>ModelName</th>\n",
       "      <th>ProductDescription</th>\n",
       "      <th>ProductColor</th>\n",
       "      <th>ProductSize</th>\n",
       "      <th>ProductStyle</th>\n",
       "      <th>ProductCost</th>\n",
       "      <th>ProductPrice</th>\n",
       "    </tr>\n",
       "  </thead>\n",
       "  <tbody>\n",
       "    <tr>\n",
       "      <th>0</th>\n",
       "      <td>214</td>\n",
       "      <td>31</td>\n",
       "      <td>HL-U509-R</td>\n",
       "      <td>Sport-100 Helmet, Red</td>\n",
       "      <td>Sport-100</td>\n",
       "      <td>Universal fit, well-vented, lightweight , snap...</td>\n",
       "      <td>Red</td>\n",
       "      <td>0</td>\n",
       "      <td>0</td>\n",
       "      <td>13.0863</td>\n",
       "      <td>34.9900</td>\n",
       "    </tr>\n",
       "    <tr>\n",
       "      <th>1</th>\n",
       "      <td>215</td>\n",
       "      <td>31</td>\n",
       "      <td>HL-U509</td>\n",
       "      <td>Sport-100 Helmet, Black</td>\n",
       "      <td>Sport-100</td>\n",
       "      <td>Universal fit, well-vented, lightweight , snap...</td>\n",
       "      <td>Black</td>\n",
       "      <td>0</td>\n",
       "      <td>0</td>\n",
       "      <td>12.0278</td>\n",
       "      <td>33.6442</td>\n",
       "    </tr>\n",
       "    <tr>\n",
       "      <th>2</th>\n",
       "      <td>218</td>\n",
       "      <td>23</td>\n",
       "      <td>SO-B909-M</td>\n",
       "      <td>Mountain Bike Socks, M</td>\n",
       "      <td>Mountain Bike Socks</td>\n",
       "      <td>Combination of natural and synthetic fibers st...</td>\n",
       "      <td>White</td>\n",
       "      <td>M</td>\n",
       "      <td>U</td>\n",
       "      <td>3.3963</td>\n",
       "      <td>9.5000</td>\n",
       "    </tr>\n",
       "    <tr>\n",
       "      <th>3</th>\n",
       "      <td>219</td>\n",
       "      <td>23</td>\n",
       "      <td>SO-B909-L</td>\n",
       "      <td>Mountain Bike Socks, L</td>\n",
       "      <td>Mountain Bike Socks</td>\n",
       "      <td>Combination of natural and synthetic fibers st...</td>\n",
       "      <td>White</td>\n",
       "      <td>L</td>\n",
       "      <td>U</td>\n",
       "      <td>3.3963</td>\n",
       "      <td>9.5000</td>\n",
       "    </tr>\n",
       "    <tr>\n",
       "      <th>4</th>\n",
       "      <td>220</td>\n",
       "      <td>31</td>\n",
       "      <td>HL-U509-B</td>\n",
       "      <td>Sport-100 Helmet, Blue</td>\n",
       "      <td>Sport-100</td>\n",
       "      <td>Universal fit, well-vented, lightweight , snap...</td>\n",
       "      <td>Blue</td>\n",
       "      <td>0</td>\n",
       "      <td>0</td>\n",
       "      <td>12.0278</td>\n",
       "      <td>33.6442</td>\n",
       "    </tr>\n",
       "  </tbody>\n",
       "</table>\n",
       "</div>"
      ],
      "text/plain": [
       "   ProductKey  ProductSubcategoryKey ProductSKU              ProductName  \\\n",
       "0         214                     31  HL-U509-R    Sport-100 Helmet, Red   \n",
       "1         215                     31    HL-U509  Sport-100 Helmet, Black   \n",
       "2         218                     23  SO-B909-M   Mountain Bike Socks, M   \n",
       "3         219                     23  SO-B909-L   Mountain Bike Socks, L   \n",
       "4         220                     31  HL-U509-B   Sport-100 Helmet, Blue   \n",
       "\n",
       "             ModelName                                 ProductDescription  \\\n",
       "0            Sport-100  Universal fit, well-vented, lightweight , snap...   \n",
       "1            Sport-100  Universal fit, well-vented, lightweight , snap...   \n",
       "2  Mountain Bike Socks  Combination of natural and synthetic fibers st...   \n",
       "3  Mountain Bike Socks  Combination of natural and synthetic fibers st...   \n",
       "4            Sport-100  Universal fit, well-vented, lightweight , snap...   \n",
       "\n",
       "  ProductColor ProductSize ProductStyle  ProductCost  ProductPrice  \n",
       "0          Red           0            0      13.0863       34.9900  \n",
       "1        Black           0            0      12.0278       33.6442  \n",
       "2        White           M            U       3.3963        9.5000  \n",
       "3        White           L            U       3.3963        9.5000  \n",
       "4         Blue           0            0      12.0278       33.6442  "
      ]
     },
     "execution_count": 34,
     "metadata": {},
     "output_type": "execute_result"
    }
   ],
   "source": [
    "sample.head(5)"
   ]
  },
  {
   "cell_type": "code",
   "execution_count": 37,
   "id": "bb1b2789",
   "metadata": {},
   "outputs": [
    {
     "data": {
      "text/plain": [
       "ProductKey                 int64\n",
       "ProductSubcategoryKey      int64\n",
       "ProductSKU                object\n",
       "ProductName               object\n",
       "ModelName                 object\n",
       "ProductDescription        object\n",
       "ProductColor              object\n",
       "ProductSize               object\n",
       "ProductStyle              object\n",
       "ProductCost              float64\n",
       "ProductPrice             float64\n",
       "dtype: object"
      ]
     },
     "execution_count": 37,
     "metadata": {},
     "output_type": "execute_result"
    }
   ],
   "source": [
    "sample.dtypes"
   ]
  },
  {
   "cell_type": "code",
   "execution_count": 38,
   "id": "70ebf47f",
   "metadata": {},
   "outputs": [
    {
     "data": {
      "text/plain": [
       "(293, 11)"
      ]
     },
     "execution_count": 38,
     "metadata": {},
     "output_type": "execute_result"
    }
   ],
   "source": [
    "sample.shape"
   ]
  },
  {
   "cell_type": "code",
   "execution_count": 39,
   "id": "69429955",
   "metadata": {},
   "outputs": [
    {
     "data": {
      "text/plain": [
       "Index(['ProductKey', 'ProductSubcategoryKey', 'ProductSKU', 'ProductName',\n",
       "       'ModelName', 'ProductDescription', 'ProductColor', 'ProductSize',\n",
       "       'ProductStyle', 'ProductCost', 'ProductPrice'],\n",
       "      dtype='object')"
      ]
     },
     "execution_count": 39,
     "metadata": {},
     "output_type": "execute_result"
    }
   ],
   "source": [
    "sample.columns"
   ]
  },
  {
   "cell_type": "code",
   "execution_count": 42,
   "id": "986cb425",
   "metadata": {},
   "outputs": [
    {
     "data": {
      "text/html": [
       "<div>\n",
       "<style scoped>\n",
       "    .dataframe tbody tr th:only-of-type {\n",
       "        vertical-align: middle;\n",
       "    }\n",
       "\n",
       "    .dataframe tbody tr th {\n",
       "        vertical-align: top;\n",
       "    }\n",
       "\n",
       "    .dataframe thead th {\n",
       "        text-align: right;\n",
       "    }\n",
       "</style>\n",
       "<table border=\"1\" class=\"dataframe\">\n",
       "  <thead>\n",
       "    <tr style=\"text-align: right;\">\n",
       "      <th></th>\n",
       "      <th>ProductKey</th>\n",
       "      <th>ProductSubcategoryKey</th>\n",
       "      <th>ProductCost</th>\n",
       "      <th>ProductPrice</th>\n",
       "    </tr>\n",
       "  </thead>\n",
       "  <tbody>\n",
       "    <tr>\n",
       "      <th>count</th>\n",
       "      <td>293.000000</td>\n",
       "      <td>293.000000</td>\n",
       "      <td>293.000000</td>\n",
       "      <td>293.000000</td>\n",
       "    </tr>\n",
       "    <tr>\n",
       "      <th>mean</th>\n",
       "      <td>441.552901</td>\n",
       "      <td>12.283276</td>\n",
       "      <td>413.661009</td>\n",
       "      <td>714.437357</td>\n",
       "    </tr>\n",
       "    <tr>\n",
       "      <th>std</th>\n",
       "      <td>108.064327</td>\n",
       "      <td>9.892831</td>\n",
       "      <td>517.611849</td>\n",
       "      <td>872.157258</td>\n",
       "    </tr>\n",
       "    <tr>\n",
       "      <th>min</th>\n",
       "      <td>214.000000</td>\n",
       "      <td>1.000000</td>\n",
       "      <td>0.856500</td>\n",
       "      <td>2.290000</td>\n",
       "    </tr>\n",
       "    <tr>\n",
       "      <th>25%</th>\n",
       "      <td>354.000000</td>\n",
       "      <td>2.000000</td>\n",
       "      <td>31.724400</td>\n",
       "      <td>63.500000</td>\n",
       "    </tr>\n",
       "    <tr>\n",
       "      <th>50%</th>\n",
       "      <td>457.000000</td>\n",
       "      <td>12.000000</td>\n",
       "      <td>199.375700</td>\n",
       "      <td>333.420000</td>\n",
       "    </tr>\n",
       "    <tr>\n",
       "      <th>75%</th>\n",
       "      <td>533.000000</td>\n",
       "      <td>17.000000</td>\n",
       "      <td>601.743700</td>\n",
       "      <td>1003.910000</td>\n",
       "    </tr>\n",
       "    <tr>\n",
       "      <th>max</th>\n",
       "      <td>606.000000</td>\n",
       "      <td>37.000000</td>\n",
       "      <td>2171.294200</td>\n",
       "      <td>3578.270000</td>\n",
       "    </tr>\n",
       "  </tbody>\n",
       "</table>\n",
       "</div>"
      ],
      "text/plain": [
       "       ProductKey  ProductSubcategoryKey  ProductCost  ProductPrice\n",
       "count  293.000000             293.000000   293.000000    293.000000\n",
       "mean   441.552901              12.283276   413.661009    714.437357\n",
       "std    108.064327               9.892831   517.611849    872.157258\n",
       "min    214.000000               1.000000     0.856500      2.290000\n",
       "25%    354.000000               2.000000    31.724400     63.500000\n",
       "50%    457.000000              12.000000   199.375700    333.420000\n",
       "75%    533.000000              17.000000   601.743700   1003.910000\n",
       "max    606.000000              37.000000  2171.294200   3578.270000"
      ]
     },
     "execution_count": 42,
     "metadata": {},
     "output_type": "execute_result"
    }
   ],
   "source": [
    "sample.describe()"
   ]
  },
  {
   "cell_type": "code",
   "execution_count": 43,
   "id": "44d4caa5",
   "metadata": {},
   "outputs": [],
   "source": [
    "po = pd.read_excel(r\"F:\\Forestpin\\Risk Engin\\Lion\\lionbrewery\\Sample\\PO.xlsx\", sheet_name=\"PO\")\n"
   ]
  },
  {
   "cell_type": "code",
   "execution_count": 44,
   "id": "dfa204cb",
   "metadata": {},
   "outputs": [
    {
     "data": {
      "text/html": [
       "<div>\n",
       "<style scoped>\n",
       "    .dataframe tbody tr th:only-of-type {\n",
       "        vertical-align: middle;\n",
       "    }\n",
       "\n",
       "    .dataframe tbody tr th {\n",
       "        vertical-align: top;\n",
       "    }\n",
       "\n",
       "    .dataframe thead th {\n",
       "        text-align: right;\n",
       "    }\n",
       "</style>\n",
       "<table border=\"1\" class=\"dataframe\">\n",
       "  <thead>\n",
       "    <tr style=\"text-align: right;\">\n",
       "      <th></th>\n",
       "      <th>[\"uid\"</th>\n",
       "      <th>PurchaseOrder</th>\n",
       "      <th>LineItem</th>\n",
       "      <th>ItemText</th>\n",
       "      <th>CompanyCode</th>\n",
       "      <th>Plant</th>\n",
       "      <th>SupplyPlant</th>\n",
       "      <th>Material</th>\n",
       "      <th>MaterialCode</th>\n",
       "      <th>MatGroup</th>\n",
       "      <th>...</th>\n",
       "      <th>NetPrice</th>\n",
       "      <th>NetPriceLocal</th>\n",
       "      <th>Per</th>\n",
       "      <th>NetPricePer1</th>\n",
       "      <th>NetPriceLocalPer1</th>\n",
       "      <th>OrderQuantity</th>\n",
       "      <th>DocumentValue</th>\n",
       "      <th>LocalValue</th>\n",
       "      <th>ExchangeRate</th>\n",
       "      <th>RecCount]</th>\n",
       "    </tr>\n",
       "  </thead>\n",
       "  <tbody>\n",
       "    <tr>\n",
       "      <th>0</th>\n",
       "      <td>[\"4400000000|10\"</td>\n",
       "      <td>4400000000</td>\n",
       "      <td>10</td>\n",
       "      <td>MALT</td>\n",
       "      <td>1100</td>\n",
       "      <td>1100</td>\n",
       "      <td>NaN</td>\n",
       "      <td>100000014</td>\n",
       "      <td>100000014</td>\n",
       "      <td>BD001</td>\n",
       "      <td>...</td>\n",
       "      <td>45.00</td>\n",
       "      <td>18000.00</td>\n",
       "      <td>1</td>\n",
       "      <td>45.00</td>\n",
       "      <td>18000.00</td>\n",
       "      <td>100</td>\n",
       "      <td>4500.0</td>\n",
       "      <td>1800000.0</td>\n",
       "      <td>400.0000</td>\n",
       "      <td>1]</td>\n",
       "    </tr>\n",
       "    <tr>\n",
       "      <th>1</th>\n",
       "      <td>[\"4400000001|10\"</td>\n",
       "      <td>4400000001</td>\n",
       "      <td>10</td>\n",
       "      <td>MALT</td>\n",
       "      <td>1100</td>\n",
       "      <td>1100</td>\n",
       "      <td>NaN</td>\n",
       "      <td>100000014</td>\n",
       "      <td>100000014</td>\n",
       "      <td>BD001</td>\n",
       "      <td>...</td>\n",
       "      <td>100.00</td>\n",
       "      <td>36493.18</td>\n",
       "      <td>1</td>\n",
       "      <td>100.00</td>\n",
       "      <td>36493.18</td>\n",
       "      <td>900</td>\n",
       "      <td>90000.0</td>\n",
       "      <td>32843862.0</td>\n",
       "      <td>364.9318</td>\n",
       "      <td>1]</td>\n",
       "    </tr>\n",
       "    <tr>\n",
       "      <th>2</th>\n",
       "      <td>[\"4400000002|10\"</td>\n",
       "      <td>4400000002</td>\n",
       "      <td>10</td>\n",
       "      <td>MALT</td>\n",
       "      <td>1100</td>\n",
       "      <td>1100</td>\n",
       "      <td>NaN</td>\n",
       "      <td>100000014</td>\n",
       "      <td>100000014</td>\n",
       "      <td>BD001</td>\n",
       "      <td>...</td>\n",
       "      <td>50.00</td>\n",
       "      <td>20000.00</td>\n",
       "      <td>1</td>\n",
       "      <td>50.00</td>\n",
       "      <td>20000.00</td>\n",
       "      <td>4</td>\n",
       "      <td>200.0</td>\n",
       "      <td>80000.0</td>\n",
       "      <td>400.0000</td>\n",
       "      <td>1]</td>\n",
       "    </tr>\n",
       "    <tr>\n",
       "      <th>3</th>\n",
       "      <td>[\"4400000003|10\"</td>\n",
       "      <td>4400000003</td>\n",
       "      <td>10</td>\n",
       "      <td>MAINTENANCE</td>\n",
       "      <td>1100</td>\n",
       "      <td>1100</td>\n",
       "      <td>NaN</td>\n",
       "      <td>NaN</td>\n",
       "      <td>NaN</td>\n",
       "      <td>SGL01</td>\n",
       "      <td>...</td>\n",
       "      <td>1000.00</td>\n",
       "      <td>400000.00</td>\n",
       "      <td>1</td>\n",
       "      <td>1000.00</td>\n",
       "      <td>400000.00</td>\n",
       "      <td>1</td>\n",
       "      <td>1000.0</td>\n",
       "      <td>400000.0</td>\n",
       "      <td>400.0000</td>\n",
       "      <td>1]</td>\n",
       "    </tr>\n",
       "    <tr>\n",
       "      <th>4</th>\n",
       "      <td>[\"4400000004|10\"</td>\n",
       "      <td>4400000004</td>\n",
       "      <td>10</td>\n",
       "      <td>MALT</td>\n",
       "      <td>1100</td>\n",
       "      <td>1100</td>\n",
       "      <td>NaN</td>\n",
       "      <td>100000014</td>\n",
       "      <td>100000014</td>\n",
       "      <td>BD001</td>\n",
       "      <td>...</td>\n",
       "      <td>53.75</td>\n",
       "      <td>21500.00</td>\n",
       "      <td>1</td>\n",
       "      <td>53.75</td>\n",
       "      <td>21500.00</td>\n",
       "      <td>4</td>\n",
       "      <td>215.0</td>\n",
       "      <td>86000.0</td>\n",
       "      <td>400.0000</td>\n",
       "      <td>1]</td>\n",
       "    </tr>\n",
       "  </tbody>\n",
       "</table>\n",
       "<p>5 rows × 44 columns</p>\n",
       "</div>"
      ],
      "text/plain": [
       "             [\"uid\"  PurchaseOrder  LineItem     ItemText  CompanyCode  Plant  \\\n",
       "0  [\"4400000000|10\"     4400000000        10         MALT         1100   1100   \n",
       "1  [\"4400000001|10\"     4400000001        10         MALT         1100   1100   \n",
       "2  [\"4400000002|10\"     4400000002        10         MALT         1100   1100   \n",
       "3  [\"4400000003|10\"     4400000003        10  MAINTENANCE         1100   1100   \n",
       "4  [\"4400000004|10\"     4400000004        10         MALT         1100   1100   \n",
       "\n",
       "   SupplyPlant   Material MaterialCode MatGroup  ...  NetPrice  NetPriceLocal  \\\n",
       "0          NaN  100000014    100000014    BD001  ...     45.00       18000.00   \n",
       "1          NaN  100000014    100000014    BD001  ...    100.00       36493.18   \n",
       "2          NaN  100000014    100000014    BD001  ...     50.00       20000.00   \n",
       "3          NaN        NaN          NaN    SGL01  ...   1000.00      400000.00   \n",
       "4          NaN  100000014    100000014    BD001  ...     53.75       21500.00   \n",
       "\n",
       "  Per NetPricePer1 NetPriceLocalPer1  OrderQuantity  DocumentValue  \\\n",
       "0   1        45.00          18000.00            100         4500.0   \n",
       "1   1       100.00          36493.18            900        90000.0   \n",
       "2   1        50.00          20000.00              4          200.0   \n",
       "3   1      1000.00         400000.00              1         1000.0   \n",
       "4   1        53.75          21500.00              4          215.0   \n",
       "\n",
       "   LocalValue  ExchangeRate RecCount]  \n",
       "0   1800000.0      400.0000        1]  \n",
       "1  32843862.0      364.9318        1]  \n",
       "2     80000.0      400.0000        1]  \n",
       "3    400000.0      400.0000        1]  \n",
       "4     86000.0      400.0000        1]  \n",
       "\n",
       "[5 rows x 44 columns]"
      ]
     },
     "execution_count": 44,
     "metadata": {},
     "output_type": "execute_result"
    }
   ],
   "source": [
    "po.head()"
   ]
  },
  {
   "cell_type": "code",
   "execution_count": 45,
   "id": "5bdaa0ad",
   "metadata": {},
   "outputs": [
    {
     "name": "stdout",
     "output_type": "stream",
     "text": [
      "<class 'pandas.core.frame.DataFrame'>\n",
      "RangeIndex: 999 entries, 0 to 998\n",
      "Data columns (total 44 columns):\n",
      " #   Column                  Non-Null Count  Dtype         \n",
      "---  ------                  --------------  -----         \n",
      " 0   [\"uid\"                  999 non-null    object        \n",
      " 1   PurchaseOrder           999 non-null    int64         \n",
      " 2   LineItem                999 non-null    int64         \n",
      " 3   ItemText                999 non-null    object        \n",
      " 4   CompanyCode             999 non-null    int64         \n",
      " 5   Plant                   999 non-null    int64         \n",
      " 6   SupplyPlant             924 non-null    float64       \n",
      " 7   Material                988 non-null    object        \n",
      " 8   MaterialCode            988 non-null    object        \n",
      " 9   MatGroup                998 non-null    object        \n",
      " 10  PurchReq                1 non-null      float64       \n",
      " 11  PurchReqLine            999 non-null    int64         \n",
      " 12  POType                  999 non-null    object        \n",
      " 13  POSubType               924 non-null    object        \n",
      " 14  PaymentTerms            75 non-null     object        \n",
      " 15  ProcessingStatus        999 non-null    int64         \n",
      " 16  Supplier                75 non-null     float64       \n",
      " 17  SupplierCode            75 non-null     float64       \n",
      " 18  PurchasingOrganization  999 non-null    int64         \n",
      " 19  PurchasingGroup         999 non-null    object        \n",
      " 20  IsReturnsItem           999 non-null    bool          \n",
      " 21  NotReleased             999 non-null    bool          \n",
      " 22  UOM                     999 non-null    object        \n",
      " 23  Deleted                 0 non-null      float64       \n",
      " 24  Currency                999 non-null    object        \n",
      " 25  CreatedBy               999 non-null    object        \n",
      " 26  Changed                 999 non-null    object        \n",
      " 27  Year                    999 non-null    int64         \n",
      " 28  Month                   999 non-null    object        \n",
      " 29  Quarter                 999 non-null    object        \n",
      " 30  CreationDate            999 non-null    datetime64[ns]\n",
      " 31  ChangeDate              14 non-null     datetime64[ns]\n",
      " 32  PODate                  999 non-null    datetime64[ns]\n",
      " 33  Date                    999 non-null    datetime64[ns]\n",
      " 34  NetPrice                999 non-null    float64       \n",
      " 35  NetPriceLocal           999 non-null    float64       \n",
      " 36  Per                     999 non-null    int64         \n",
      " 37  NetPricePer1            999 non-null    float64       \n",
      " 38  NetPriceLocalPer1       999 non-null    float64       \n",
      " 39  OrderQuantity           999 non-null    int64         \n",
      " 40  DocumentValue           999 non-null    float64       \n",
      " 41  LocalValue              999 non-null    float64       \n",
      " 42  ExchangeRate            999 non-null    float64       \n",
      " 43  RecCount]               999 non-null    object        \n",
      "dtypes: bool(2), datetime64[ns](4), float64(12), int64(10), object(16)\n",
      "memory usage: 329.9+ KB\n"
     ]
    }
   ],
   "source": [
    "po.info()"
   ]
  },
  {
   "cell_type": "code",
   "execution_count": 49,
   "id": "4cdbecea",
   "metadata": {},
   "outputs": [
    {
     "data": {
      "text/plain": [
       "(999, 44)"
      ]
     },
     "execution_count": 49,
     "metadata": {},
     "output_type": "execute_result"
    }
   ],
   "source": [
    "po.shape"
   ]
  },
  {
   "cell_type": "code",
   "execution_count": 47,
   "id": "8f43dd7a",
   "metadata": {},
   "outputs": [
    {
     "name": "stdout",
     "output_type": "stream",
     "text": [
      "<class 'pandas.core.frame.DataFrame'>\n",
      "RangeIndex: 293 entries, 0 to 292\n",
      "Data columns (total 11 columns):\n",
      " #   Column                 Non-Null Count  Dtype  \n",
      "---  ------                 --------------  -----  \n",
      " 0   ProductKey             293 non-null    int64  \n",
      " 1   ProductSubcategoryKey  293 non-null    int64  \n",
      " 2   ProductSKU             293 non-null    object \n",
      " 3   ProductName            293 non-null    object \n",
      " 4   ModelName              293 non-null    object \n",
      " 5   ProductDescription     293 non-null    object \n",
      " 6   ProductColor           243 non-null    object \n",
      " 7   ProductSize            293 non-null    object \n",
      " 8   ProductStyle           293 non-null    object \n",
      " 9   ProductCost            293 non-null    float64\n",
      " 10  ProductPrice           293 non-null    float64\n",
      "dtypes: float64(2), int64(2), object(7)\n",
      "memory usage: 25.3+ KB\n"
     ]
    }
   ],
   "source": [
    "sample.info()\n"
   ]
  },
  {
   "cell_type": "code",
   "execution_count": 51,
   "id": "b2752fe2",
   "metadata": {},
   "outputs": [],
   "source": [
    "sample1=sample.dropna()"
   ]
  },
  {
   "cell_type": "code",
   "execution_count": 52,
   "id": "8bbbad14",
   "metadata": {},
   "outputs": [
    {
     "data": {
      "text/html": [
       "<div>\n",
       "<style scoped>\n",
       "    .dataframe tbody tr th:only-of-type {\n",
       "        vertical-align: middle;\n",
       "    }\n",
       "\n",
       "    .dataframe tbody tr th {\n",
       "        vertical-align: top;\n",
       "    }\n",
       "\n",
       "    .dataframe thead th {\n",
       "        text-align: right;\n",
       "    }\n",
       "</style>\n",
       "<table border=\"1\" class=\"dataframe\">\n",
       "  <thead>\n",
       "    <tr style=\"text-align: right;\">\n",
       "      <th></th>\n",
       "      <th>ProductKey</th>\n",
       "      <th>ProductSubcategoryKey</th>\n",
       "      <th>ProductSKU</th>\n",
       "      <th>ProductName</th>\n",
       "      <th>ModelName</th>\n",
       "      <th>ProductDescription</th>\n",
       "      <th>ProductColor</th>\n",
       "      <th>ProductSize</th>\n",
       "      <th>ProductStyle</th>\n",
       "      <th>ProductCost</th>\n",
       "      <th>ProductPrice</th>\n",
       "    </tr>\n",
       "  </thead>\n",
       "  <tbody>\n",
       "    <tr>\n",
       "      <th>0</th>\n",
       "      <td>214</td>\n",
       "      <td>31</td>\n",
       "      <td>HL-U509-R</td>\n",
       "      <td>Sport-100 Helmet, Red</td>\n",
       "      <td>Sport-100</td>\n",
       "      <td>Universal fit, well-vented, lightweight , snap...</td>\n",
       "      <td>Red</td>\n",
       "      <td>0</td>\n",
       "      <td>0</td>\n",
       "      <td>13.0863</td>\n",
       "      <td>34.9900</td>\n",
       "    </tr>\n",
       "    <tr>\n",
       "      <th>1</th>\n",
       "      <td>215</td>\n",
       "      <td>31</td>\n",
       "      <td>HL-U509</td>\n",
       "      <td>Sport-100 Helmet, Black</td>\n",
       "      <td>Sport-100</td>\n",
       "      <td>Universal fit, well-vented, lightweight , snap...</td>\n",
       "      <td>Black</td>\n",
       "      <td>0</td>\n",
       "      <td>0</td>\n",
       "      <td>12.0278</td>\n",
       "      <td>33.6442</td>\n",
       "    </tr>\n",
       "    <tr>\n",
       "      <th>2</th>\n",
       "      <td>218</td>\n",
       "      <td>23</td>\n",
       "      <td>SO-B909-M</td>\n",
       "      <td>Mountain Bike Socks, M</td>\n",
       "      <td>Mountain Bike Socks</td>\n",
       "      <td>Combination of natural and synthetic fibers st...</td>\n",
       "      <td>White</td>\n",
       "      <td>M</td>\n",
       "      <td>U</td>\n",
       "      <td>3.3963</td>\n",
       "      <td>9.5000</td>\n",
       "    </tr>\n",
       "    <tr>\n",
       "      <th>3</th>\n",
       "      <td>219</td>\n",
       "      <td>23</td>\n",
       "      <td>SO-B909-L</td>\n",
       "      <td>Mountain Bike Socks, L</td>\n",
       "      <td>Mountain Bike Socks</td>\n",
       "      <td>Combination of natural and synthetic fibers st...</td>\n",
       "      <td>White</td>\n",
       "      <td>L</td>\n",
       "      <td>U</td>\n",
       "      <td>3.3963</td>\n",
       "      <td>9.5000</td>\n",
       "    </tr>\n",
       "    <tr>\n",
       "      <th>4</th>\n",
       "      <td>220</td>\n",
       "      <td>31</td>\n",
       "      <td>HL-U509-B</td>\n",
       "      <td>Sport-100 Helmet, Blue</td>\n",
       "      <td>Sport-100</td>\n",
       "      <td>Universal fit, well-vented, lightweight , snap...</td>\n",
       "      <td>Blue</td>\n",
       "      <td>0</td>\n",
       "      <td>0</td>\n",
       "      <td>12.0278</td>\n",
       "      <td>33.6442</td>\n",
       "    </tr>\n",
       "  </tbody>\n",
       "</table>\n",
       "</div>"
      ],
      "text/plain": [
       "   ProductKey  ProductSubcategoryKey ProductSKU              ProductName  \\\n",
       "0         214                     31  HL-U509-R    Sport-100 Helmet, Red   \n",
       "1         215                     31    HL-U509  Sport-100 Helmet, Black   \n",
       "2         218                     23  SO-B909-M   Mountain Bike Socks, M   \n",
       "3         219                     23  SO-B909-L   Mountain Bike Socks, L   \n",
       "4         220                     31  HL-U509-B   Sport-100 Helmet, Blue   \n",
       "\n",
       "             ModelName                                 ProductDescription  \\\n",
       "0            Sport-100  Universal fit, well-vented, lightweight , snap...   \n",
       "1            Sport-100  Universal fit, well-vented, lightweight , snap...   \n",
       "2  Mountain Bike Socks  Combination of natural and synthetic fibers st...   \n",
       "3  Mountain Bike Socks  Combination of natural and synthetic fibers st...   \n",
       "4            Sport-100  Universal fit, well-vented, lightweight , snap...   \n",
       "\n",
       "  ProductColor ProductSize ProductStyle  ProductCost  ProductPrice  \n",
       "0          Red           0            0      13.0863       34.9900  \n",
       "1        Black           0            0      12.0278       33.6442  \n",
       "2        White           M            U       3.3963        9.5000  \n",
       "3        White           L            U       3.3963        9.5000  \n",
       "4         Blue           0            0      12.0278       33.6442  "
      ]
     },
     "execution_count": 52,
     "metadata": {},
     "output_type": "execute_result"
    }
   ],
   "source": [
    "sample1.head()"
   ]
  },
  {
   "cell_type": "code",
   "execution_count": 54,
   "id": "c95b1424",
   "metadata": {},
   "outputs": [
    {
     "name": "stdout",
     "output_type": "stream",
     "text": [
      "<class 'pandas.core.frame.DataFrame'>\n",
      "Int64Index: 243 entries, 0 to 292\n",
      "Data columns (total 11 columns):\n",
      " #   Column                 Non-Null Count  Dtype  \n",
      "---  ------                 --------------  -----  \n",
      " 0   ProductKey             243 non-null    int64  \n",
      " 1   ProductSubcategoryKey  243 non-null    int64  \n",
      " 2   ProductSKU             243 non-null    object \n",
      " 3   ProductName            243 non-null    object \n",
      " 4   ModelName              243 non-null    object \n",
      " 5   ProductDescription     243 non-null    object \n",
      " 6   ProductColor           243 non-null    object \n",
      " 7   ProductSize            243 non-null    object \n",
      " 8   ProductStyle           243 non-null    object \n",
      " 9   ProductCost            243 non-null    float64\n",
      " 10  ProductPrice           243 non-null    float64\n",
      "dtypes: float64(2), int64(2), object(7)\n",
      "memory usage: 22.8+ KB\n"
     ]
    }
   ],
   "source": [
    "sample1.info()"
   ]
  },
  {
   "cell_type": "code",
   "execution_count": 61,
   "id": "255da825",
   "metadata": {},
   "outputs": [],
   "source": [
    "NetPrice_45 = po[po[\"NetPrice\"] > 45]"
   ]
  },
  {
   "cell_type": "code",
   "execution_count": 63,
   "id": "56d827c0",
   "metadata": {},
   "outputs": [
    {
     "data": {
      "text/html": [
       "<div>\n",
       "<style scoped>\n",
       "    .dataframe tbody tr th:only-of-type {\n",
       "        vertical-align: middle;\n",
       "    }\n",
       "\n",
       "    .dataframe tbody tr th {\n",
       "        vertical-align: top;\n",
       "    }\n",
       "\n",
       "    .dataframe thead th {\n",
       "        text-align: right;\n",
       "    }\n",
       "</style>\n",
       "<table border=\"1\" class=\"dataframe\">\n",
       "  <thead>\n",
       "    <tr style=\"text-align: right;\">\n",
       "      <th></th>\n",
       "      <th>[\"uid\"</th>\n",
       "      <th>PurchaseOrder</th>\n",
       "      <th>LineItem</th>\n",
       "      <th>ItemText</th>\n",
       "      <th>CompanyCode</th>\n",
       "      <th>Plant</th>\n",
       "      <th>SupplyPlant</th>\n",
       "      <th>Material</th>\n",
       "      <th>MaterialCode</th>\n",
       "      <th>MatGroup</th>\n",
       "      <th>...</th>\n",
       "      <th>NetPrice</th>\n",
       "      <th>NetPriceLocal</th>\n",
       "      <th>Per</th>\n",
       "      <th>NetPricePer1</th>\n",
       "      <th>NetPriceLocalPer1</th>\n",
       "      <th>OrderQuantity</th>\n",
       "      <th>DocumentValue</th>\n",
       "      <th>LocalValue</th>\n",
       "      <th>ExchangeRate</th>\n",
       "      <th>RecCount]</th>\n",
       "    </tr>\n",
       "  </thead>\n",
       "  <tbody>\n",
       "    <tr>\n",
       "      <th>1</th>\n",
       "      <td>[\"4400000001|10\"</td>\n",
       "      <td>4400000001</td>\n",
       "      <td>10</td>\n",
       "      <td>MALT</td>\n",
       "      <td>1100</td>\n",
       "      <td>1100</td>\n",
       "      <td>NaN</td>\n",
       "      <td>100000014</td>\n",
       "      <td>100000014</td>\n",
       "      <td>BD001</td>\n",
       "      <td>...</td>\n",
       "      <td>100.00</td>\n",
       "      <td>36493.18</td>\n",
       "      <td>1</td>\n",
       "      <td>100.00</td>\n",
       "      <td>36493.18</td>\n",
       "      <td>900</td>\n",
       "      <td>90000.0</td>\n",
       "      <td>32843862.0</td>\n",
       "      <td>364.9318</td>\n",
       "      <td>1]</td>\n",
       "    </tr>\n",
       "    <tr>\n",
       "      <th>2</th>\n",
       "      <td>[\"4400000002|10\"</td>\n",
       "      <td>4400000002</td>\n",
       "      <td>10</td>\n",
       "      <td>MALT</td>\n",
       "      <td>1100</td>\n",
       "      <td>1100</td>\n",
       "      <td>NaN</td>\n",
       "      <td>100000014</td>\n",
       "      <td>100000014</td>\n",
       "      <td>BD001</td>\n",
       "      <td>...</td>\n",
       "      <td>50.00</td>\n",
       "      <td>20000.00</td>\n",
       "      <td>1</td>\n",
       "      <td>50.00</td>\n",
       "      <td>20000.00</td>\n",
       "      <td>4</td>\n",
       "      <td>200.0</td>\n",
       "      <td>80000.0</td>\n",
       "      <td>400.0000</td>\n",
       "      <td>1]</td>\n",
       "    </tr>\n",
       "    <tr>\n",
       "      <th>3</th>\n",
       "      <td>[\"4400000003|10\"</td>\n",
       "      <td>4400000003</td>\n",
       "      <td>10</td>\n",
       "      <td>MAINTENANCE</td>\n",
       "      <td>1100</td>\n",
       "      <td>1100</td>\n",
       "      <td>NaN</td>\n",
       "      <td>NaN</td>\n",
       "      <td>NaN</td>\n",
       "      <td>SGL01</td>\n",
       "      <td>...</td>\n",
       "      <td>1000.00</td>\n",
       "      <td>400000.00</td>\n",
       "      <td>1</td>\n",
       "      <td>1000.00</td>\n",
       "      <td>400000.00</td>\n",
       "      <td>1</td>\n",
       "      <td>1000.0</td>\n",
       "      <td>400000.0</td>\n",
       "      <td>400.0000</td>\n",
       "      <td>1]</td>\n",
       "    </tr>\n",
       "    <tr>\n",
       "      <th>4</th>\n",
       "      <td>[\"4400000004|10\"</td>\n",
       "      <td>4400000004</td>\n",
       "      <td>10</td>\n",
       "      <td>MALT</td>\n",
       "      <td>1100</td>\n",
       "      <td>1100</td>\n",
       "      <td>NaN</td>\n",
       "      <td>100000014</td>\n",
       "      <td>100000014</td>\n",
       "      <td>BD001</td>\n",
       "      <td>...</td>\n",
       "      <td>53.75</td>\n",
       "      <td>21500.00</td>\n",
       "      <td>1</td>\n",
       "      <td>53.75</td>\n",
       "      <td>21500.00</td>\n",
       "      <td>4</td>\n",
       "      <td>215.0</td>\n",
       "      <td>86000.0</td>\n",
       "      <td>400.0000</td>\n",
       "      <td>1]</td>\n",
       "    </tr>\n",
       "    <tr>\n",
       "      <th>5</th>\n",
       "      <td>[\"4400000005|10\"</td>\n",
       "      <td>4400000005</td>\n",
       "      <td>10</td>\n",
       "      <td>LION DISPLAY UNITS</td>\n",
       "      <td>1100</td>\n",
       "      <td>1100</td>\n",
       "      <td>NaN</td>\n",
       "      <td>200000251</td>\n",
       "      <td>200000251</td>\n",
       "      <td>XPR01</td>\n",
       "      <td>...</td>\n",
       "      <td>1000.00</td>\n",
       "      <td>1000.00</td>\n",
       "      <td>1</td>\n",
       "      <td>1000.00</td>\n",
       "      <td>1000.00</td>\n",
       "      <td>99</td>\n",
       "      <td>99000.0</td>\n",
       "      <td>99000.0</td>\n",
       "      <td>1.0000</td>\n",
       "      <td>1]</td>\n",
       "    </tr>\n",
       "  </tbody>\n",
       "</table>\n",
       "<p>5 rows × 44 columns</p>\n",
       "</div>"
      ],
      "text/plain": [
       "             [\"uid\"  PurchaseOrder  LineItem            ItemText  CompanyCode  \\\n",
       "1  [\"4400000001|10\"     4400000001        10                MALT         1100   \n",
       "2  [\"4400000002|10\"     4400000002        10                MALT         1100   \n",
       "3  [\"4400000003|10\"     4400000003        10         MAINTENANCE         1100   \n",
       "4  [\"4400000004|10\"     4400000004        10                MALT         1100   \n",
       "5  [\"4400000005|10\"     4400000005        10  LION DISPLAY UNITS         1100   \n",
       "\n",
       "   Plant  SupplyPlant   Material MaterialCode MatGroup  ...  NetPrice  \\\n",
       "1   1100          NaN  100000014    100000014    BD001  ...    100.00   \n",
       "2   1100          NaN  100000014    100000014    BD001  ...     50.00   \n",
       "3   1100          NaN        NaN          NaN    SGL01  ...   1000.00   \n",
       "4   1100          NaN  100000014    100000014    BD001  ...     53.75   \n",
       "5   1100          NaN  200000251    200000251    XPR01  ...   1000.00   \n",
       "\n",
       "   NetPriceLocal Per NetPricePer1 NetPriceLocalPer1  OrderQuantity  \\\n",
       "1       36493.18   1       100.00          36493.18            900   \n",
       "2       20000.00   1        50.00          20000.00              4   \n",
       "3      400000.00   1      1000.00         400000.00              1   \n",
       "4       21500.00   1        53.75          21500.00              4   \n",
       "5        1000.00   1      1000.00           1000.00             99   \n",
       "\n",
       "   DocumentValue  LocalValue  ExchangeRate RecCount]  \n",
       "1        90000.0  32843862.0      364.9318        1]  \n",
       "2          200.0     80000.0      400.0000        1]  \n",
       "3         1000.0    400000.0      400.0000        1]  \n",
       "4          215.0     86000.0      400.0000        1]  \n",
       "5        99000.0     99000.0        1.0000        1]  \n",
       "\n",
       "[5 rows x 44 columns]"
      ]
     },
     "execution_count": 63,
     "metadata": {},
     "output_type": "execute_result"
    }
   ],
   "source": [
    "NetPrice_45.head(5)"
   ]
  },
  {
   "cell_type": "code",
   "execution_count": 64,
   "id": "bdc139a4",
   "metadata": {},
   "outputs": [
    {
     "data": {
      "text/plain": [
       "[0      False\n",
       " 1       True\n",
       " 2       True\n",
       " 3       True\n",
       " 4       True\n",
       "        ...  \n",
       " 994    False\n",
       " 995    False\n",
       " 996    False\n",
       " 997    False\n",
       " 998    False\n",
       " Name: NetPrice, Length: 999, dtype: bool]"
      ]
     },
     "execution_count": 64,
     "metadata": {},
     "output_type": "execute_result"
    }
   ],
   "source": [
    "[po[\"NetPrice\"] > 45]"
   ]
  },
  {
   "cell_type": "code",
   "execution_count": 66,
   "id": "28034ee3",
   "metadata": {},
   "outputs": [],
   "source": [
    "queantity= po[po[\"OrderQuantity\"].isin([1,4])]"
   ]
  },
  {
   "cell_type": "code",
   "execution_count": 69,
   "id": "f2ebc119",
   "metadata": {},
   "outputs": [
    {
     "data": {
      "text/html": [
       "<div>\n",
       "<style scoped>\n",
       "    .dataframe tbody tr th:only-of-type {\n",
       "        vertical-align: middle;\n",
       "    }\n",
       "\n",
       "    .dataframe tbody tr th {\n",
       "        vertical-align: top;\n",
       "    }\n",
       "\n",
       "    .dataframe thead th {\n",
       "        text-align: right;\n",
       "    }\n",
       "</style>\n",
       "<table border=\"1\" class=\"dataframe\">\n",
       "  <thead>\n",
       "    <tr style=\"text-align: right;\">\n",
       "      <th></th>\n",
       "      <th>[\"uid\"</th>\n",
       "      <th>PurchaseOrder</th>\n",
       "      <th>LineItem</th>\n",
       "      <th>ItemText</th>\n",
       "      <th>CompanyCode</th>\n",
       "      <th>Plant</th>\n",
       "      <th>SupplyPlant</th>\n",
       "      <th>Material</th>\n",
       "      <th>MaterialCode</th>\n",
       "      <th>MatGroup</th>\n",
       "      <th>...</th>\n",
       "      <th>NetPrice</th>\n",
       "      <th>NetPriceLocal</th>\n",
       "      <th>Per</th>\n",
       "      <th>NetPricePer1</th>\n",
       "      <th>NetPriceLocalPer1</th>\n",
       "      <th>OrderQuantity</th>\n",
       "      <th>DocumentValue</th>\n",
       "      <th>LocalValue</th>\n",
       "      <th>ExchangeRate</th>\n",
       "      <th>RecCount]</th>\n",
       "    </tr>\n",
       "  </thead>\n",
       "  <tbody>\n",
       "    <tr>\n",
       "      <th>2</th>\n",
       "      <td>[\"4400000002|10\"</td>\n",
       "      <td>4400000002</td>\n",
       "      <td>10</td>\n",
       "      <td>MALT</td>\n",
       "      <td>1100</td>\n",
       "      <td>1100</td>\n",
       "      <td>NaN</td>\n",
       "      <td>100000014</td>\n",
       "      <td>100000014</td>\n",
       "      <td>BD001</td>\n",
       "      <td>...</td>\n",
       "      <td>50.00</td>\n",
       "      <td>20000.0</td>\n",
       "      <td>1</td>\n",
       "      <td>50.00</td>\n",
       "      <td>20000.0</td>\n",
       "      <td>4</td>\n",
       "      <td>200.0</td>\n",
       "      <td>80000.0</td>\n",
       "      <td>400.0</td>\n",
       "      <td>1]</td>\n",
       "    </tr>\n",
       "    <tr>\n",
       "      <th>3</th>\n",
       "      <td>[\"4400000003|10\"</td>\n",
       "      <td>4400000003</td>\n",
       "      <td>10</td>\n",
       "      <td>MAINTENANCE</td>\n",
       "      <td>1100</td>\n",
       "      <td>1100</td>\n",
       "      <td>NaN</td>\n",
       "      <td>NaN</td>\n",
       "      <td>NaN</td>\n",
       "      <td>SGL01</td>\n",
       "      <td>...</td>\n",
       "      <td>1000.00</td>\n",
       "      <td>400000.0</td>\n",
       "      <td>1</td>\n",
       "      <td>1000.00</td>\n",
       "      <td>400000.0</td>\n",
       "      <td>1</td>\n",
       "      <td>1000.0</td>\n",
       "      <td>400000.0</td>\n",
       "      <td>400.0</td>\n",
       "      <td>1]</td>\n",
       "    </tr>\n",
       "    <tr>\n",
       "      <th>4</th>\n",
       "      <td>[\"4400000004|10\"</td>\n",
       "      <td>4400000004</td>\n",
       "      <td>10</td>\n",
       "      <td>MALT</td>\n",
       "      <td>1100</td>\n",
       "      <td>1100</td>\n",
       "      <td>NaN</td>\n",
       "      <td>100000014</td>\n",
       "      <td>100000014</td>\n",
       "      <td>BD001</td>\n",
       "      <td>...</td>\n",
       "      <td>53.75</td>\n",
       "      <td>21500.0</td>\n",
       "      <td>1</td>\n",
       "      <td>53.75</td>\n",
       "      <td>21500.0</td>\n",
       "      <td>4</td>\n",
       "      <td>215.0</td>\n",
       "      <td>86000.0</td>\n",
       "      <td>400.0</td>\n",
       "      <td>1]</td>\n",
       "    </tr>\n",
       "    <tr>\n",
       "      <th>6</th>\n",
       "      <td>[\"4400000008|10\"</td>\n",
       "      <td>4400000008</td>\n",
       "      <td>10</td>\n",
       "      <td>Machine Maintenance service</td>\n",
       "      <td>1100</td>\n",
       "      <td>1100</td>\n",
       "      <td>NaN</td>\n",
       "      <td>NaN</td>\n",
       "      <td>NaN</td>\n",
       "      <td>SGL01</td>\n",
       "      <td>...</td>\n",
       "      <td>102001.30</td>\n",
       "      <td>40800520.0</td>\n",
       "      <td>1</td>\n",
       "      <td>102001.30</td>\n",
       "      <td>40800520.0</td>\n",
       "      <td>1</td>\n",
       "      <td>102001.3</td>\n",
       "      <td>40800520.0</td>\n",
       "      <td>400.0</td>\n",
       "      <td>1]</td>\n",
       "    </tr>\n",
       "    <tr>\n",
       "      <th>7</th>\n",
       "      <td>[\"4400000009|10\"</td>\n",
       "      <td>4400000009</td>\n",
       "      <td>10</td>\n",
       "      <td>Machine Maintenance service</td>\n",
       "      <td>1100</td>\n",
       "      <td>1100</td>\n",
       "      <td>NaN</td>\n",
       "      <td>NaN</td>\n",
       "      <td>NaN</td>\n",
       "      <td>SGI01</td>\n",
       "      <td>...</td>\n",
       "      <td>3.00</td>\n",
       "      <td>1200.0</td>\n",
       "      <td>1</td>\n",
       "      <td>3.00</td>\n",
       "      <td>1200.0</td>\n",
       "      <td>1</td>\n",
       "      <td>3.0</td>\n",
       "      <td>1200.0</td>\n",
       "      <td>400.0</td>\n",
       "      <td>1]</td>\n",
       "    </tr>\n",
       "  </tbody>\n",
       "</table>\n",
       "<p>5 rows × 44 columns</p>\n",
       "</div>"
      ],
      "text/plain": [
       "             [\"uid\"  PurchaseOrder  LineItem                     ItemText  \\\n",
       "2  [\"4400000002|10\"     4400000002        10                         MALT   \n",
       "3  [\"4400000003|10\"     4400000003        10                  MAINTENANCE   \n",
       "4  [\"4400000004|10\"     4400000004        10                         MALT   \n",
       "6  [\"4400000008|10\"     4400000008        10  Machine Maintenance service   \n",
       "7  [\"4400000009|10\"     4400000009        10  Machine Maintenance service   \n",
       "\n",
       "   CompanyCode  Plant  SupplyPlant   Material MaterialCode MatGroup  ...  \\\n",
       "2         1100   1100          NaN  100000014    100000014    BD001  ...   \n",
       "3         1100   1100          NaN        NaN          NaN    SGL01  ...   \n",
       "4         1100   1100          NaN  100000014    100000014    BD001  ...   \n",
       "6         1100   1100          NaN        NaN          NaN    SGL01  ...   \n",
       "7         1100   1100          NaN        NaN          NaN    SGI01  ...   \n",
       "\n",
       "    NetPrice  NetPriceLocal Per NetPricePer1 NetPriceLocalPer1  OrderQuantity  \\\n",
       "2      50.00        20000.0   1        50.00           20000.0              4   \n",
       "3    1000.00       400000.0   1      1000.00          400000.0              1   \n",
       "4      53.75        21500.0   1        53.75           21500.0              4   \n",
       "6  102001.30     40800520.0   1    102001.30        40800520.0              1   \n",
       "7       3.00         1200.0   1         3.00            1200.0              1   \n",
       "\n",
       "   DocumentValue  LocalValue  ExchangeRate RecCount]  \n",
       "2          200.0     80000.0         400.0        1]  \n",
       "3         1000.0    400000.0         400.0        1]  \n",
       "4          215.0     86000.0         400.0        1]  \n",
       "6       102001.3  40800520.0         400.0        1]  \n",
       "7            3.0      1200.0         400.0        1]  \n",
       "\n",
       "[5 rows x 44 columns]"
      ]
     },
     "execution_count": 69,
     "metadata": {},
     "output_type": "execute_result"
    }
   ],
   "source": [
    "queantity.head(5)\n"
   ]
  },
  {
   "cell_type": "code",
   "execution_count": 71,
   "id": "138a5fed",
   "metadata": {},
   "outputs": [],
   "source": [
    "A =po[(po[\"OrderQuantity\"]==1 )| (po[\"OrderQuantity\"]==4)]"
   ]
  },
  {
   "cell_type": "code",
   "execution_count": 73,
   "id": "dc8b13ef",
   "metadata": {},
   "outputs": [
    {
     "data": {
      "text/html": [
       "<div>\n",
       "<style scoped>\n",
       "    .dataframe tbody tr th:only-of-type {\n",
       "        vertical-align: middle;\n",
       "    }\n",
       "\n",
       "    .dataframe tbody tr th {\n",
       "        vertical-align: top;\n",
       "    }\n",
       "\n",
       "    .dataframe thead th {\n",
       "        text-align: right;\n",
       "    }\n",
       "</style>\n",
       "<table border=\"1\" class=\"dataframe\">\n",
       "  <thead>\n",
       "    <tr style=\"text-align: right;\">\n",
       "      <th></th>\n",
       "      <th>[\"uid\"</th>\n",
       "      <th>PurchaseOrder</th>\n",
       "      <th>LineItem</th>\n",
       "      <th>ItemText</th>\n",
       "      <th>CompanyCode</th>\n",
       "      <th>Plant</th>\n",
       "      <th>SupplyPlant</th>\n",
       "      <th>Material</th>\n",
       "      <th>MaterialCode</th>\n",
       "      <th>MatGroup</th>\n",
       "      <th>...</th>\n",
       "      <th>NetPrice</th>\n",
       "      <th>NetPriceLocal</th>\n",
       "      <th>Per</th>\n",
       "      <th>NetPricePer1</th>\n",
       "      <th>NetPriceLocalPer1</th>\n",
       "      <th>OrderQuantity</th>\n",
       "      <th>DocumentValue</th>\n",
       "      <th>LocalValue</th>\n",
       "      <th>ExchangeRate</th>\n",
       "      <th>RecCount]</th>\n",
       "    </tr>\n",
       "  </thead>\n",
       "  <tbody>\n",
       "    <tr>\n",
       "      <th>2</th>\n",
       "      <td>[\"4400000002|10\"</td>\n",
       "      <td>4400000002</td>\n",
       "      <td>10</td>\n",
       "      <td>MALT</td>\n",
       "      <td>1100</td>\n",
       "      <td>1100</td>\n",
       "      <td>NaN</td>\n",
       "      <td>100000014</td>\n",
       "      <td>100000014</td>\n",
       "      <td>BD001</td>\n",
       "      <td>...</td>\n",
       "      <td>50.00</td>\n",
       "      <td>20000.0</td>\n",
       "      <td>1</td>\n",
       "      <td>50.00</td>\n",
       "      <td>20000.0</td>\n",
       "      <td>4</td>\n",
       "      <td>200.0</td>\n",
       "      <td>80000.0</td>\n",
       "      <td>400.0</td>\n",
       "      <td>1]</td>\n",
       "    </tr>\n",
       "    <tr>\n",
       "      <th>3</th>\n",
       "      <td>[\"4400000003|10\"</td>\n",
       "      <td>4400000003</td>\n",
       "      <td>10</td>\n",
       "      <td>MAINTENANCE</td>\n",
       "      <td>1100</td>\n",
       "      <td>1100</td>\n",
       "      <td>NaN</td>\n",
       "      <td>NaN</td>\n",
       "      <td>NaN</td>\n",
       "      <td>SGL01</td>\n",
       "      <td>...</td>\n",
       "      <td>1000.00</td>\n",
       "      <td>400000.0</td>\n",
       "      <td>1</td>\n",
       "      <td>1000.00</td>\n",
       "      <td>400000.0</td>\n",
       "      <td>1</td>\n",
       "      <td>1000.0</td>\n",
       "      <td>400000.0</td>\n",
       "      <td>400.0</td>\n",
       "      <td>1]</td>\n",
       "    </tr>\n",
       "    <tr>\n",
       "      <th>4</th>\n",
       "      <td>[\"4400000004|10\"</td>\n",
       "      <td>4400000004</td>\n",
       "      <td>10</td>\n",
       "      <td>MALT</td>\n",
       "      <td>1100</td>\n",
       "      <td>1100</td>\n",
       "      <td>NaN</td>\n",
       "      <td>100000014</td>\n",
       "      <td>100000014</td>\n",
       "      <td>BD001</td>\n",
       "      <td>...</td>\n",
       "      <td>53.75</td>\n",
       "      <td>21500.0</td>\n",
       "      <td>1</td>\n",
       "      <td>53.75</td>\n",
       "      <td>21500.0</td>\n",
       "      <td>4</td>\n",
       "      <td>215.0</td>\n",
       "      <td>86000.0</td>\n",
       "      <td>400.0</td>\n",
       "      <td>1]</td>\n",
       "    </tr>\n",
       "    <tr>\n",
       "      <th>6</th>\n",
       "      <td>[\"4400000008|10\"</td>\n",
       "      <td>4400000008</td>\n",
       "      <td>10</td>\n",
       "      <td>Machine Maintenance service</td>\n",
       "      <td>1100</td>\n",
       "      <td>1100</td>\n",
       "      <td>NaN</td>\n",
       "      <td>NaN</td>\n",
       "      <td>NaN</td>\n",
       "      <td>SGL01</td>\n",
       "      <td>...</td>\n",
       "      <td>102001.30</td>\n",
       "      <td>40800520.0</td>\n",
       "      <td>1</td>\n",
       "      <td>102001.30</td>\n",
       "      <td>40800520.0</td>\n",
       "      <td>1</td>\n",
       "      <td>102001.3</td>\n",
       "      <td>40800520.0</td>\n",
       "      <td>400.0</td>\n",
       "      <td>1]</td>\n",
       "    </tr>\n",
       "    <tr>\n",
       "      <th>7</th>\n",
       "      <td>[\"4400000009|10\"</td>\n",
       "      <td>4400000009</td>\n",
       "      <td>10</td>\n",
       "      <td>Machine Maintenance service</td>\n",
       "      <td>1100</td>\n",
       "      <td>1100</td>\n",
       "      <td>NaN</td>\n",
       "      <td>NaN</td>\n",
       "      <td>NaN</td>\n",
       "      <td>SGI01</td>\n",
       "      <td>...</td>\n",
       "      <td>3.00</td>\n",
       "      <td>1200.0</td>\n",
       "      <td>1</td>\n",
       "      <td>3.00</td>\n",
       "      <td>1200.0</td>\n",
       "      <td>1</td>\n",
       "      <td>3.0</td>\n",
       "      <td>1200.0</td>\n",
       "      <td>400.0</td>\n",
       "      <td>1]</td>\n",
       "    </tr>\n",
       "  </tbody>\n",
       "</table>\n",
       "<p>5 rows × 44 columns</p>\n",
       "</div>"
      ],
      "text/plain": [
       "             [\"uid\"  PurchaseOrder  LineItem                     ItemText  \\\n",
       "2  [\"4400000002|10\"     4400000002        10                         MALT   \n",
       "3  [\"4400000003|10\"     4400000003        10                  MAINTENANCE   \n",
       "4  [\"4400000004|10\"     4400000004        10                         MALT   \n",
       "6  [\"4400000008|10\"     4400000008        10  Machine Maintenance service   \n",
       "7  [\"4400000009|10\"     4400000009        10  Machine Maintenance service   \n",
       "\n",
       "   CompanyCode  Plant  SupplyPlant   Material MaterialCode MatGroup  ...  \\\n",
       "2         1100   1100          NaN  100000014    100000014    BD001  ...   \n",
       "3         1100   1100          NaN        NaN          NaN    SGL01  ...   \n",
       "4         1100   1100          NaN  100000014    100000014    BD001  ...   \n",
       "6         1100   1100          NaN        NaN          NaN    SGL01  ...   \n",
       "7         1100   1100          NaN        NaN          NaN    SGI01  ...   \n",
       "\n",
       "    NetPrice  NetPriceLocal Per NetPricePer1 NetPriceLocalPer1  OrderQuantity  \\\n",
       "2      50.00        20000.0   1        50.00           20000.0              4   \n",
       "3    1000.00       400000.0   1      1000.00          400000.0              1   \n",
       "4      53.75        21500.0   1        53.75           21500.0              4   \n",
       "6  102001.30     40800520.0   1    102001.30        40800520.0              1   \n",
       "7       3.00         1200.0   1         3.00            1200.0              1   \n",
       "\n",
       "   DocumentValue  LocalValue  ExchangeRate RecCount]  \n",
       "2          200.0     80000.0         400.0        1]  \n",
       "3         1000.0    400000.0         400.0        1]  \n",
       "4          215.0     86000.0         400.0        1]  \n",
       "6       102001.3  40800520.0         400.0        1]  \n",
       "7            3.0      1200.0         400.0        1]  \n",
       "\n",
       "[5 rows x 44 columns]"
      ]
     },
     "execution_count": 73,
     "metadata": {},
     "output_type": "execute_result"
    }
   ],
   "source": [
    "A.head()"
   ]
  },
  {
   "cell_type": "code",
   "execution_count": 74,
   "id": "63e1eba9",
   "metadata": {},
   "outputs": [],
   "source": [
    "B = po[(po[\"OrderQuantity\"]==1 )& (po[\"OrderQuantity\"]==4)]"
   ]
  },
  {
   "cell_type": "code",
   "execution_count": 75,
   "id": "4af1aed5",
   "metadata": {},
   "outputs": [
    {
     "data": {
      "text/html": [
       "<div>\n",
       "<style scoped>\n",
       "    .dataframe tbody tr th:only-of-type {\n",
       "        vertical-align: middle;\n",
       "    }\n",
       "\n",
       "    .dataframe tbody tr th {\n",
       "        vertical-align: top;\n",
       "    }\n",
       "\n",
       "    .dataframe thead th {\n",
       "        text-align: right;\n",
       "    }\n",
       "</style>\n",
       "<table border=\"1\" class=\"dataframe\">\n",
       "  <thead>\n",
       "    <tr style=\"text-align: right;\">\n",
       "      <th></th>\n",
       "      <th>[\"uid\"</th>\n",
       "      <th>PurchaseOrder</th>\n",
       "      <th>LineItem</th>\n",
       "      <th>ItemText</th>\n",
       "      <th>CompanyCode</th>\n",
       "      <th>Plant</th>\n",
       "      <th>SupplyPlant</th>\n",
       "      <th>Material</th>\n",
       "      <th>MaterialCode</th>\n",
       "      <th>MatGroup</th>\n",
       "      <th>...</th>\n",
       "      <th>NetPrice</th>\n",
       "      <th>NetPriceLocal</th>\n",
       "      <th>Per</th>\n",
       "      <th>NetPricePer1</th>\n",
       "      <th>NetPriceLocalPer1</th>\n",
       "      <th>OrderQuantity</th>\n",
       "      <th>DocumentValue</th>\n",
       "      <th>LocalValue</th>\n",
       "      <th>ExchangeRate</th>\n",
       "      <th>RecCount]</th>\n",
       "    </tr>\n",
       "  </thead>\n",
       "  <tbody>\n",
       "  </tbody>\n",
       "</table>\n",
       "<p>0 rows × 44 columns</p>\n",
       "</div>"
      ],
      "text/plain": [
       "Empty DataFrame\n",
       "Columns: [[\"uid\", PurchaseOrder, LineItem, ItemText, CompanyCode, Plant, SupplyPlant, Material, MaterialCode, MatGroup, PurchReq, PurchReqLine, POType, POSubType, PaymentTerms, ProcessingStatus, Supplier, SupplierCode, PurchasingOrganization, PurchasingGroup, IsReturnsItem, NotReleased, UOM, Deleted, Currency, CreatedBy, Changed, Year, Month, Quarter, CreationDate, ChangeDate, PODate, Date, NetPrice, NetPriceLocal, Per, NetPricePer1, NetPriceLocalPer1, OrderQuantity, DocumentValue, LocalValue, ExchangeRate, RecCount]]\n",
       "Index: []\n",
       "\n",
       "[0 rows x 44 columns]"
      ]
     },
     "execution_count": 75,
     "metadata": {},
     "output_type": "execute_result"
    }
   ],
   "source": [
    "B.head()"
   ]
  },
  {
   "cell_type": "code",
   "execution_count": 76,
   "id": "5317100c",
   "metadata": {},
   "outputs": [],
   "source": [
    "C= po[po[\"Material\"].notna()]"
   ]
  },
  {
   "cell_type": "code",
   "execution_count": 79,
   "id": "abd45365",
   "metadata": {},
   "outputs": [
    {
     "data": {
      "text/html": [
       "<div>\n",
       "<style scoped>\n",
       "    .dataframe tbody tr th:only-of-type {\n",
       "        vertical-align: middle;\n",
       "    }\n",
       "\n",
       "    .dataframe tbody tr th {\n",
       "        vertical-align: top;\n",
       "    }\n",
       "\n",
       "    .dataframe thead th {\n",
       "        text-align: right;\n",
       "    }\n",
       "</style>\n",
       "<table border=\"1\" class=\"dataframe\">\n",
       "  <thead>\n",
       "    <tr style=\"text-align: right;\">\n",
       "      <th></th>\n",
       "      <th>[\"uid\"</th>\n",
       "      <th>PurchaseOrder</th>\n",
       "      <th>LineItem</th>\n",
       "      <th>ItemText</th>\n",
       "      <th>CompanyCode</th>\n",
       "      <th>Plant</th>\n",
       "      <th>SupplyPlant</th>\n",
       "      <th>Material</th>\n",
       "      <th>MaterialCode</th>\n",
       "      <th>MatGroup</th>\n",
       "      <th>...</th>\n",
       "      <th>NetPrice</th>\n",
       "      <th>NetPriceLocal</th>\n",
       "      <th>Per</th>\n",
       "      <th>NetPricePer1</th>\n",
       "      <th>NetPriceLocalPer1</th>\n",
       "      <th>OrderQuantity</th>\n",
       "      <th>DocumentValue</th>\n",
       "      <th>LocalValue</th>\n",
       "      <th>ExchangeRate</th>\n",
       "      <th>RecCount]</th>\n",
       "    </tr>\n",
       "  </thead>\n",
       "  <tbody>\n",
       "    <tr>\n",
       "      <th>0</th>\n",
       "      <td>[\"4400000000|10\"</td>\n",
       "      <td>4400000000</td>\n",
       "      <td>10</td>\n",
       "      <td>MALT</td>\n",
       "      <td>1100</td>\n",
       "      <td>1100</td>\n",
       "      <td>NaN</td>\n",
       "      <td>100000014</td>\n",
       "      <td>100000014</td>\n",
       "      <td>BD001</td>\n",
       "      <td>...</td>\n",
       "      <td>45.00</td>\n",
       "      <td>18000.00</td>\n",
       "      <td>1</td>\n",
       "      <td>45.00</td>\n",
       "      <td>18000.00</td>\n",
       "      <td>100</td>\n",
       "      <td>4500.0</td>\n",
       "      <td>1800000.0</td>\n",
       "      <td>400.0000</td>\n",
       "      <td>1]</td>\n",
       "    </tr>\n",
       "    <tr>\n",
       "      <th>1</th>\n",
       "      <td>[\"4400000001|10\"</td>\n",
       "      <td>4400000001</td>\n",
       "      <td>10</td>\n",
       "      <td>MALT</td>\n",
       "      <td>1100</td>\n",
       "      <td>1100</td>\n",
       "      <td>NaN</td>\n",
       "      <td>100000014</td>\n",
       "      <td>100000014</td>\n",
       "      <td>BD001</td>\n",
       "      <td>...</td>\n",
       "      <td>100.00</td>\n",
       "      <td>36493.18</td>\n",
       "      <td>1</td>\n",
       "      <td>100.00</td>\n",
       "      <td>36493.18</td>\n",
       "      <td>900</td>\n",
       "      <td>90000.0</td>\n",
       "      <td>32843862.0</td>\n",
       "      <td>364.9318</td>\n",
       "      <td>1]</td>\n",
       "    </tr>\n",
       "    <tr>\n",
       "      <th>2</th>\n",
       "      <td>[\"4400000002|10\"</td>\n",
       "      <td>4400000002</td>\n",
       "      <td>10</td>\n",
       "      <td>MALT</td>\n",
       "      <td>1100</td>\n",
       "      <td>1100</td>\n",
       "      <td>NaN</td>\n",
       "      <td>100000014</td>\n",
       "      <td>100000014</td>\n",
       "      <td>BD001</td>\n",
       "      <td>...</td>\n",
       "      <td>50.00</td>\n",
       "      <td>20000.00</td>\n",
       "      <td>1</td>\n",
       "      <td>50.00</td>\n",
       "      <td>20000.00</td>\n",
       "      <td>4</td>\n",
       "      <td>200.0</td>\n",
       "      <td>80000.0</td>\n",
       "      <td>400.0000</td>\n",
       "      <td>1]</td>\n",
       "    </tr>\n",
       "    <tr>\n",
       "      <th>4</th>\n",
       "      <td>[\"4400000004|10\"</td>\n",
       "      <td>4400000004</td>\n",
       "      <td>10</td>\n",
       "      <td>MALT</td>\n",
       "      <td>1100</td>\n",
       "      <td>1100</td>\n",
       "      <td>NaN</td>\n",
       "      <td>100000014</td>\n",
       "      <td>100000014</td>\n",
       "      <td>BD001</td>\n",
       "      <td>...</td>\n",
       "      <td>53.75</td>\n",
       "      <td>21500.00</td>\n",
       "      <td>1</td>\n",
       "      <td>53.75</td>\n",
       "      <td>21500.00</td>\n",
       "      <td>4</td>\n",
       "      <td>215.0</td>\n",
       "      <td>86000.0</td>\n",
       "      <td>400.0000</td>\n",
       "      <td>1]</td>\n",
       "    </tr>\n",
       "    <tr>\n",
       "      <th>5</th>\n",
       "      <td>[\"4400000005|10\"</td>\n",
       "      <td>4400000005</td>\n",
       "      <td>10</td>\n",
       "      <td>LION DISPLAY UNITS</td>\n",
       "      <td>1100</td>\n",
       "      <td>1100</td>\n",
       "      <td>NaN</td>\n",
       "      <td>200000251</td>\n",
       "      <td>200000251</td>\n",
       "      <td>XPR01</td>\n",
       "      <td>...</td>\n",
       "      <td>1000.00</td>\n",
       "      <td>1000.00</td>\n",
       "      <td>1</td>\n",
       "      <td>1000.00</td>\n",
       "      <td>1000.00</td>\n",
       "      <td>99</td>\n",
       "      <td>99000.0</td>\n",
       "      <td>99000.0</td>\n",
       "      <td>1.0000</td>\n",
       "      <td>1]</td>\n",
       "    </tr>\n",
       "  </tbody>\n",
       "</table>\n",
       "<p>5 rows × 44 columns</p>\n",
       "</div>"
      ],
      "text/plain": [
       "             [\"uid\"  PurchaseOrder  LineItem            ItemText  CompanyCode  \\\n",
       "0  [\"4400000000|10\"     4400000000        10                MALT         1100   \n",
       "1  [\"4400000001|10\"     4400000001        10                MALT         1100   \n",
       "2  [\"4400000002|10\"     4400000002        10                MALT         1100   \n",
       "4  [\"4400000004|10\"     4400000004        10                MALT         1100   \n",
       "5  [\"4400000005|10\"     4400000005        10  LION DISPLAY UNITS         1100   \n",
       "\n",
       "   Plant  SupplyPlant   Material MaterialCode MatGroup  ...  NetPrice  \\\n",
       "0   1100          NaN  100000014    100000014    BD001  ...     45.00   \n",
       "1   1100          NaN  100000014    100000014    BD001  ...    100.00   \n",
       "2   1100          NaN  100000014    100000014    BD001  ...     50.00   \n",
       "4   1100          NaN  100000014    100000014    BD001  ...     53.75   \n",
       "5   1100          NaN  200000251    200000251    XPR01  ...   1000.00   \n",
       "\n",
       "   NetPriceLocal Per NetPricePer1 NetPriceLocalPer1  OrderQuantity  \\\n",
       "0       18000.00   1        45.00          18000.00            100   \n",
       "1       36493.18   1       100.00          36493.18            900   \n",
       "2       20000.00   1        50.00          20000.00              4   \n",
       "4       21500.00   1        53.75          21500.00              4   \n",
       "5        1000.00   1      1000.00           1000.00             99   \n",
       "\n",
       "   DocumentValue  LocalValue  ExchangeRate RecCount]  \n",
       "0         4500.0   1800000.0      400.0000        1]  \n",
       "1        90000.0  32843862.0      364.9318        1]  \n",
       "2          200.0     80000.0      400.0000        1]  \n",
       "4          215.0     86000.0      400.0000        1]  \n",
       "5        99000.0     99000.0        1.0000        1]  \n",
       "\n",
       "[5 rows x 44 columns]"
      ]
     },
     "execution_count": 79,
     "metadata": {},
     "output_type": "execute_result"
    }
   ],
   "source": [
    "C.head()"
   ]
  },
  {
   "cell_type": "code",
   "execution_count": 80,
   "id": "fc239360",
   "metadata": {},
   "outputs": [
    {
     "data": {
      "text/html": [
       "<div>\n",
       "<style scoped>\n",
       "    .dataframe tbody tr th:only-of-type {\n",
       "        vertical-align: middle;\n",
       "    }\n",
       "\n",
       "    .dataframe tbody tr th {\n",
       "        vertical-align: top;\n",
       "    }\n",
       "\n",
       "    .dataframe thead th {\n",
       "        text-align: right;\n",
       "    }\n",
       "</style>\n",
       "<table border=\"1\" class=\"dataframe\">\n",
       "  <thead>\n",
       "    <tr style=\"text-align: right;\">\n",
       "      <th></th>\n",
       "      <th>POType</th>\n",
       "      <th>POSubType</th>\n",
       "      <th>PaymentTerms</th>\n",
       "    </tr>\n",
       "  </thead>\n",
       "  <tbody>\n",
       "    <tr>\n",
       "      <th>24</th>\n",
       "      <td>UB</td>\n",
       "      <td>T</td>\n",
       "      <td>NaN</td>\n",
       "    </tr>\n",
       "    <tr>\n",
       "      <th>25</th>\n",
       "      <td>UB</td>\n",
       "      <td>T</td>\n",
       "      <td>NaN</td>\n",
       "    </tr>\n",
       "    <tr>\n",
       "      <th>26</th>\n",
       "      <td>UB</td>\n",
       "      <td>T</td>\n",
       "      <td>NaN</td>\n",
       "    </tr>\n",
       "    <tr>\n",
       "      <th>27</th>\n",
       "      <td>UB</td>\n",
       "      <td>T</td>\n",
       "      <td>NaN</td>\n",
       "    </tr>\n",
       "    <tr>\n",
       "      <th>28</th>\n",
       "      <td>UB</td>\n",
       "      <td>T</td>\n",
       "      <td>NaN</td>\n",
       "    </tr>\n",
       "    <tr>\n",
       "      <th>29</th>\n",
       "      <td>UB</td>\n",
       "      <td>T</td>\n",
       "      <td>NaN</td>\n",
       "    </tr>\n",
       "    <tr>\n",
       "      <th>30</th>\n",
       "      <td>UB</td>\n",
       "      <td>T</td>\n",
       "      <td>NaN</td>\n",
       "    </tr>\n",
       "    <tr>\n",
       "      <th>31</th>\n",
       "      <td>UB</td>\n",
       "      <td>T</td>\n",
       "      <td>NaN</td>\n",
       "    </tr>\n",
       "    <tr>\n",
       "      <th>32</th>\n",
       "      <td>UB</td>\n",
       "      <td>T</td>\n",
       "      <td>NaN</td>\n",
       "    </tr>\n",
       "    <tr>\n",
       "      <th>33</th>\n",
       "      <td>UB</td>\n",
       "      <td>T</td>\n",
       "      <td>NaN</td>\n",
       "    </tr>\n",
       "    <tr>\n",
       "      <th>34</th>\n",
       "      <td>UB</td>\n",
       "      <td>T</td>\n",
       "      <td>NaN</td>\n",
       "    </tr>\n",
       "    <tr>\n",
       "      <th>35</th>\n",
       "      <td>UB</td>\n",
       "      <td>T</td>\n",
       "      <td>NaN</td>\n",
       "    </tr>\n",
       "    <tr>\n",
       "      <th>36</th>\n",
       "      <td>UB</td>\n",
       "      <td>T</td>\n",
       "      <td>NaN</td>\n",
       "    </tr>\n",
       "    <tr>\n",
       "      <th>37</th>\n",
       "      <td>UB</td>\n",
       "      <td>T</td>\n",
       "      <td>NaN</td>\n",
       "    </tr>\n",
       "    <tr>\n",
       "      <th>38</th>\n",
       "      <td>UB</td>\n",
       "      <td>T</td>\n",
       "      <td>NaN</td>\n",
       "    </tr>\n",
       "    <tr>\n",
       "      <th>39</th>\n",
       "      <td>UB</td>\n",
       "      <td>T</td>\n",
       "      <td>NaN</td>\n",
       "    </tr>\n",
       "    <tr>\n",
       "      <th>40</th>\n",
       "      <td>UB</td>\n",
       "      <td>T</td>\n",
       "      <td>NaN</td>\n",
       "    </tr>\n",
       "    <tr>\n",
       "      <th>41</th>\n",
       "      <td>UB</td>\n",
       "      <td>T</td>\n",
       "      <td>NaN</td>\n",
       "    </tr>\n",
       "    <tr>\n",
       "      <th>42</th>\n",
       "      <td>UB</td>\n",
       "      <td>T</td>\n",
       "      <td>NaN</td>\n",
       "    </tr>\n",
       "    <tr>\n",
       "      <th>43</th>\n",
       "      <td>UB</td>\n",
       "      <td>T</td>\n",
       "      <td>NaN</td>\n",
       "    </tr>\n",
       "    <tr>\n",
       "      <th>44</th>\n",
       "      <td>UB</td>\n",
       "      <td>T</td>\n",
       "      <td>NaN</td>\n",
       "    </tr>\n",
       "  </tbody>\n",
       "</table>\n",
       "</div>"
      ],
      "text/plain": [
       "   POType POSubType PaymentTerms\n",
       "24     UB         T          NaN\n",
       "25     UB         T          NaN\n",
       "26     UB         T          NaN\n",
       "27     UB         T          NaN\n",
       "28     UB         T          NaN\n",
       "29     UB         T          NaN\n",
       "30     UB         T          NaN\n",
       "31     UB         T          NaN\n",
       "32     UB         T          NaN\n",
       "33     UB         T          NaN\n",
       "34     UB         T          NaN\n",
       "35     UB         T          NaN\n",
       "36     UB         T          NaN\n",
       "37     UB         T          NaN\n",
       "38     UB         T          NaN\n",
       "39     UB         T          NaN\n",
       "40     UB         T          NaN\n",
       "41     UB         T          NaN\n",
       "42     UB         T          NaN\n",
       "43     UB         T          NaN\n",
       "44     UB         T          NaN"
      ]
     },
     "execution_count": 80,
     "metadata": {},
     "output_type": "execute_result"
    }
   ],
   "source": [
    "po.iloc[24:45,12:15]"
   ]
  },
  {
   "cell_type": "code",
   "execution_count": 82,
   "id": "c156f5fd",
   "metadata": {},
   "outputs": [],
   "source": [
    "import pandas as pd\n",
    "import matplotlib.pyplot as plt"
   ]
  },
  {
   "cell_type": "code",
   "execution_count": 84,
   "id": "5643a26b",
   "metadata": {},
   "outputs": [
    {
     "data": {
      "text/plain": [
       "<AxesSubplot:>"
      ]
     },
     "execution_count": 84,
     "metadata": {},
     "output_type": "execute_result"
    },
    {
     "data": {
      "image/png": "[encoded data removed]",
      "text/plain": [
       "<Figure size 640x480 with 1 Axes>"
      ]
     },
     "metadata": {},
     "output_type": "display_data"
    }
   ],
   "source": [
    "po[\"NetPrice\"].plot()"
   ]
  },
  {
   "cell_type": "code",
   "execution_count": 85,
   "id": "efb677d0",
   "metadata": {},
   "outputs": [
    {
     "data": {
      "text/plain": [
       "<AxesSubplot:>"
      ]
     },
     "execution_count": 85,
     "metadata": {},
     "output_type": "execute_result"
    },
    {
     "data": {
      "image/png": "[encoded data removed]",
      "text/plain": [
       "<Figure size 640x480 with 1 Axes>"
      ]
     },
     "metadata": {},
     "output_type": "display_data"
    }
   ],
   "source": [
    "po[\"NetPriceLocal\"].plot()"
   ]
  },
  {
   "cell_type": "code",
   "execution_count": 89,
   "id": "89f97cf3",
   "metadata": {},
   "outputs": [
    {
     "data": {
      "text/plain": [
       "<AxesSubplot:xlabel='NetPrice', ylabel='NetPriceLocal'>"
      ]
     },
     "execution_count": 89,
     "metadata": {},
     "output_type": "execute_result"
    },
    {
     "data": {
      "image/png": "[encoded data removed]",
      "text/plain": [
       "<Figure size 640x480 with 1 Axes>"
      ]
     },
     "metadata": {},
     "output_type": "display_data"
    }
   ],
   "source": [
    "po.plot.scatter(x=\"NetPrice\",y=\"NetPriceLocal\")"
   ]
  },
  {
   "cell_type": "code",
   "execution_count": 92,
   "id": "11c1566a",
   "metadata": {},
   "outputs": [
    {
     "data": {
      "text/plain": [
       "<AxesSubplot:xlabel='NetPrice', ylabel='NetPriceLocal'>"
      ]
     },
     "execution_count": 92,
     "metadata": {},
     "output_type": "execute_result"
    },
    {
     "data": {
      "image/png": "[encoded data removed]",
      "text/plain": [
       "<Figure size 640x480 with 1 Axes>"
      ]
     },
     "metadata": {},
     "output_type": "display_data"
    }
   ],
   "source": [
    "po.plot.scatter(x=\"NetPrice\",y=\"NetPriceLocal\",alpha=1)"
   ]
  },
  {
   "cell_type": "code",
   "execution_count": null,
   "id": "6cfb6bf9",
   "metadata": {},
   "outputs": [],
   "source": [
    "##['area',\n",
    "'bar',\n",
    "'barh',\n",
    "'box',\n",
    "'density',\n",
    "'hexbin',\n",
    "'hist',\n",
    "'kde',\n",
    "'line',\n",
    "'pie',\n",
    "'scatter']"
   ]
  },
  {
   "cell_type": "code",
   "execution_count": 94,
   "id": "404f6ef4",
   "metadata": {},
   "outputs": [
    {
     "data": {
      "text/plain": [
       "<AxesSubplot:>"
      ]
     },
     "execution_count": 94,
     "metadata": {},
     "output_type": "execute_result"
    },
    {
     "data": {
      "image/png": "[encoded data removed]",
      "text/plain": [
       "<Figure size 640x480 with 1 Axes>"
      ]
     },
     "metadata": {},
     "output_type": "display_data"
    }
   ],
   "source": [
    "po[\"NetPrice\"].plot.box()"
   ]
  },
  {
   "cell_type": "code",
   "execution_count": 102,
   "id": "d8fdeb8c",
   "metadata": {},
   "outputs": [],
   "source": [
    "import pandas as pd\n",
    "import numpy as np\n",
    "import matplotlib.pyplot as plt"
   ]
  },
  {
   "cell_type": "code",
   "execution_count": 104,
   "id": "8efe87d6",
   "metadata": {},
   "outputs": [],
   "source": [
    "y=np.random.seed(0)"
   ]
  },
  {
   "cell_type": "code",
   "execution_count": 106,
   "id": "03d3c1ec",
   "metadata": {},
   "outputs": [],
   "source": [
    "value=np.random.randn(100)"
   ]
  },
  {
   "cell_type": "code",
   "execution_count": 107,
   "id": "b4394017",
   "metadata": {},
   "outputs": [
    {
     "data": {
      "text/plain": [
       "array([ 1.3315865 ,  0.71527897, -1.54540029, -0.00838385,  0.62133597,\n",
       "       -0.72008556,  0.26551159,  0.10854853,  0.00429143, -0.17460021,\n",
       "        0.43302619,  1.20303737, -0.96506567,  1.02827408,  0.22863013,\n",
       "        0.44513761, -1.13660221,  0.13513688,  1.484537  , -1.07980489,\n",
       "       -1.97772828, -1.7433723 ,  0.26607016,  2.38496733,  1.12369125,\n",
       "        1.67262221,  0.09914922,  1.39799638, -0.27124799,  0.61320418,\n",
       "       -0.26731719, -0.54930901,  0.1327083 , -0.47614201,  1.30847308,\n",
       "        0.19501328,  0.40020999, -0.33763234,  1.25647226, -0.7319695 ,\n",
       "        0.66023155, -0.35087189, -0.93943336, -0.48933722, -0.80459114,\n",
       "       -0.21269764, -0.33914025,  0.31216994,  0.56515267, -0.14742026,\n",
       "       -0.02590534,  0.2890942 , -0.53987907,  0.70816002,  0.84222474,\n",
       "        0.2035808 ,  2.39470366,  0.91745894, -0.11227247, -0.36218045,\n",
       "       -0.23218226, -0.5017289 ,  1.12878515, -0.69781003, -0.08112218,\n",
       "       -0.52929608,  1.04618286, -1.41855603, -0.36249918, -0.12190569,\n",
       "        0.31935642,  0.4609029 , -0.21578989,  0.98907246,  0.31475378,\n",
       "        2.46765106, -1.50832149,  0.62060066, -1.04513254, -0.79800882,\n",
       "        1.98508459,  1.74481415, -1.85618548, -0.2227737 , -0.06584785,\n",
       "       -2.13171211, -0.04883051,  0.39334122,  0.21726515, -1.99439377,\n",
       "        1.10770823,  0.24454398, -0.06191203, -0.75389296,  0.71195902,\n",
       "        0.91826915, -0.48209314,  0.08958761,  0.82699862, -1.95451212])"
      ]
     },
     "execution_count": 107,
     "metadata": {},
     "output_type": "execute_result"
    }
   ],
   "source": [
    "value"
   ]
  },
  {
   "cell_type": "code",
   "execution_count": 109,
   "id": "9ed43aca",
   "metadata": {},
   "outputs": [],
   "source": [
    "s = pd.Series(value)"
   ]
  },
  {
   "cell_type": "code",
   "execution_count": 110,
   "id": "ea6a0da0",
   "metadata": {},
   "outputs": [
    {
     "data": {
      "text/plain": [
       "0     1.331587\n",
       "1     0.715279\n",
       "2    -1.545400\n",
       "3    -0.008384\n",
       "4     0.621336\n",
       "        ...   \n",
       "95    0.918269\n",
       "96   -0.482093\n",
       "97    0.089588\n",
       "98    0.826999\n",
       "99   -1.954512\n",
       "Length: 100, dtype: float64"
      ]
     },
     "execution_count": 110,
     "metadata": {},
     "output_type": "execute_result"
    }
   ],
   "source": [
    "s"
   ]
  },
  {
   "cell_type": "code",
   "execution_count": 113,
   "id": "cbeaa994",
   "metadata": {},
   "outputs": [
    {
     "data": {
      "image/png": "[encoded data removed]",
      "text/plain": [
       "<Figure size 640x480 with 1 Axes>"
      ]
     },
     "metadata": {},
     "output_type": "display_data"
    }
   ],
   "source": [
    "s.plot(kind='hist',title=\"Random\")\n",
    "plt.show()"
   ]
  },
  {
   "cell_type": "markdown",
   "id": "88e89125",
   "metadata": {},
   "source": [
    "# Appending to DataFrame"
   ]
  },
  {
   "cell_type": "code",
   "execution_count": 114,
   "id": "a22af17d",
   "metadata": {},
   "outputs": [],
   "source": [
    "df1=pd.DataFrame(columns=['A','B,','C'])"
   ]
  },
  {
   "cell_type": "markdown",
   "id": "fd3f80b7",
   "metadata": {},
   "source": [
    "# "
   ]
  },
  {
   "cell_type": "code",
   "execution_count": 115,
   "id": "7e8098f4",
   "metadata": {},
   "outputs": [
    {
     "data": {
      "text/html": [
       "<div>\n",
       "<style scoped>\n",
       "    .dataframe tbody tr th:only-of-type {\n",
       "        vertical-align: middle;\n",
       "    }\n",
       "\n",
       "    .dataframe tbody tr th {\n",
       "        vertical-align: top;\n",
       "    }\n",
       "\n",
       "    .dataframe thead th {\n",
       "        text-align: right;\n",
       "    }\n",
       "</style>\n",
       "<table border=\"1\" class=\"dataframe\">\n",
       "  <thead>\n",
       "    <tr style=\"text-align: right;\">\n",
       "      <th></th>\n",
       "      <th>A</th>\n",
       "      <th>B,</th>\n",
       "      <th>C</th>\n",
       "    </tr>\n",
       "  </thead>\n",
       "  <tbody>\n",
       "  </tbody>\n",
       "</table>\n",
       "</div>"
      ],
      "text/plain": [
       "Empty DataFrame\n",
       "Columns: [A, B,, C]\n",
       "Index: []"
      ]
     },
     "execution_count": 115,
     "metadata": {},
     "output_type": "execute_result"
    }
   ],
   "source": [
    "df1"
   ]
  },
  {
   "cell_type": "code",
   "execution_count": 117,
   "id": "0ec89f29",
   "metadata": {},
   "outputs": [],
   "source": [
    "df1.loc[0,'A']=1"
   ]
  },
  {
   "cell_type": "markdown",
   "id": "3fbfc5ef",
   "metadata": {},
   "source": [
    "df1 "
   ]
  },
  {
   "cell_type": "code",
   "execution_count": 118,
   "id": "484e5e3d",
   "metadata": {},
   "outputs": [
    {
     "data": {
      "text/html": [
       "<div>\n",
       "<style scoped>\n",
       "    .dataframe tbody tr th:only-of-type {\n",
       "        vertical-align: middle;\n",
       "    }\n",
       "\n",
       "    .dataframe tbody tr th {\n",
       "        vertical-align: top;\n",
       "    }\n",
       "\n",
       "    .dataframe thead th {\n",
       "        text-align: right;\n",
       "    }\n",
       "</style>\n",
       "<table border=\"1\" class=\"dataframe\">\n",
       "  <thead>\n",
       "    <tr style=\"text-align: right;\">\n",
       "      <th></th>\n",
       "      <th>A</th>\n",
       "      <th>B,</th>\n",
       "      <th>C</th>\n",
       "    </tr>\n",
       "  </thead>\n",
       "  <tbody>\n",
       "    <tr>\n",
       "      <th>A</th>\n",
       "      <td>1.0</td>\n",
       "      <td>1.0</td>\n",
       "      <td>1.0</td>\n",
       "    </tr>\n",
       "    <tr>\n",
       "      <th>0</th>\n",
       "      <td>1.0</td>\n",
       "      <td>NaN</td>\n",
       "      <td>NaN</td>\n",
       "    </tr>\n",
       "  </tbody>\n",
       "</table>\n",
       "</div>"
      ],
      "text/plain": [
       "     A   B,    C\n",
       "A  1.0  1.0  1.0\n",
       "0  1.0  NaN  NaN"
      ]
     },
     "execution_count": 118,
     "metadata": {},
     "output_type": "execute_result"
    }
   ],
   "source": [
    "df1"
   ]
  },
  {
   "cell_type": "code",
   "execution_count": 120,
   "id": "2edff92f",
   "metadata": {},
   "outputs": [],
   "source": [
    "df1.loc[1]=[1,3,9]"
   ]
  },
  {
   "cell_type": "code",
   "execution_count": 121,
   "id": "34266643",
   "metadata": {},
   "outputs": [
    {
     "data": {
      "text/html": [
       "<div>\n",
       "<style scoped>\n",
       "    .dataframe tbody tr th:only-of-type {\n",
       "        vertical-align: middle;\n",
       "    }\n",
       "\n",
       "    .dataframe tbody tr th {\n",
       "        vertical-align: top;\n",
       "    }\n",
       "\n",
       "    .dataframe thead th {\n",
       "        text-align: right;\n",
       "    }\n",
       "</style>\n",
       "<table border=\"1\" class=\"dataframe\">\n",
       "  <thead>\n",
       "    <tr style=\"text-align: right;\">\n",
       "      <th></th>\n",
       "      <th>A</th>\n",
       "      <th>B,</th>\n",
       "      <th>C</th>\n",
       "    </tr>\n",
       "  </thead>\n",
       "  <tbody>\n",
       "    <tr>\n",
       "      <th>A</th>\n",
       "      <td>1.0</td>\n",
       "      <td>1.0</td>\n",
       "      <td>1.0</td>\n",
       "    </tr>\n",
       "    <tr>\n",
       "      <th>0</th>\n",
       "      <td>1.0</td>\n",
       "      <td>NaN</td>\n",
       "      <td>NaN</td>\n",
       "    </tr>\n",
       "    <tr>\n",
       "      <th>1</th>\n",
       "      <td>1.0</td>\n",
       "      <td>3.0</td>\n",
       "      <td>9.0</td>\n",
       "    </tr>\n",
       "  </tbody>\n",
       "</table>\n",
       "</div>"
      ],
      "text/plain": [
       "     A   B,    C\n",
       "A  1.0  1.0  1.0\n",
       "0  1.0  NaN  NaN\n",
       "1  1.0  3.0  9.0"
      ]
     },
     "execution_count": 121,
     "metadata": {},
     "output_type": "execute_result"
    }
   ],
   "source": [
    "df1"
   ]
  },
  {
   "cell_type": "code",
   "execution_count": 124,
   "id": "045253aa",
   "metadata": {},
   "outputs": [],
   "source": [
    "df1.loc[2]={'A':5,'B':8,'C':8}"
   ]
  },
  {
   "cell_type": "markdown",
   "id": "54b3749c",
   "metadata": {},
   "source": [
    "df1"
   ]
  },
  {
   "cell_type": "code",
   "execution_count": 125,
   "id": "bf7b237b",
   "metadata": {},
   "outputs": [
    {
     "data": {
      "text/html": [
       "<div>\n",
       "<style scoped>\n",
       "    .dataframe tbody tr th:only-of-type {\n",
       "        vertical-align: middle;\n",
       "    }\n",
       "\n",
       "    .dataframe tbody tr th {\n",
       "        vertical-align: top;\n",
       "    }\n",
       "\n",
       "    .dataframe thead th {\n",
       "        text-align: right;\n",
       "    }\n",
       "</style>\n",
       "<table border=\"1\" class=\"dataframe\">\n",
       "  <thead>\n",
       "    <tr style=\"text-align: right;\">\n",
       "      <th></th>\n",
       "      <th>A</th>\n",
       "      <th>B,</th>\n",
       "      <th>C</th>\n",
       "    </tr>\n",
       "  </thead>\n",
       "  <tbody>\n",
       "    <tr>\n",
       "      <th>A</th>\n",
       "      <td>1.0</td>\n",
       "      <td>1.0</td>\n",
       "      <td>1.0</td>\n",
       "    </tr>\n",
       "    <tr>\n",
       "      <th>0</th>\n",
       "      <td>1.0</td>\n",
       "      <td>NaN</td>\n",
       "      <td>NaN</td>\n",
       "    </tr>\n",
       "    <tr>\n",
       "      <th>1</th>\n",
       "      <td>1.0</td>\n",
       "      <td>3.0</td>\n",
       "      <td>9.0</td>\n",
       "    </tr>\n",
       "    <tr>\n",
       "      <th>2</th>\n",
       "      <td>5.0</td>\n",
       "      <td>NaN</td>\n",
       "      <td>8.0</td>\n",
       "    </tr>\n",
       "  </tbody>\n",
       "</table>\n",
       "</div>"
      ],
      "text/plain": [
       "     A   B,    C\n",
       "A  1.0  1.0  1.0\n",
       "0  1.0  NaN  NaN\n",
       "1  1.0  3.0  9.0\n",
       "2  5.0  NaN  8.0"
      ]
     },
     "execution_count": 125,
     "metadata": {},
     "output_type": "execute_result"
    }
   ],
   "source": [
    "df1"
   ]
  },
  {
   "cell_type": "code",
   "execution_count": null,
   "id": "a50f6f58",
   "metadata": {},
   "outputs": [],
   "source": []
  }
 ],
 "metadata": {
  "kernelspec": {
   "display_name": "Python 3 (ipykernel)",
   "language": "python",
   "name": "python3"
  },
  "language_info": {
   "codemirror_mode": {
    "name": "ipython",
    "version": 3
   },
   "file_extension": ".py",
   "mimetype": "text/x-python",
   "name": "python",
   "nbconvert_exporter": "python",
   "pygments_lexer": "ipython3",
   "version": "3.9.13"
  }
 },
 "nbformat": 4,
 "nbformat_minor": 5
}
