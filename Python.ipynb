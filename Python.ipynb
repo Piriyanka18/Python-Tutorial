{
 "cells": [
  {
   "cell_type": "markdown",
   "id": "3a519d19",
   "metadata": {},
   "source": [
    "# Variables And Data Types\n"
   ]
  },
  {
   "cell_type": "markdown",
   "id": "ef33cd44",
   "metadata": {},
   "source": [
    "## Numbers\n",
    "## List\n",
    "## Tuple\n",
    "## String\n",
    "## Dictionary\n",
    "## Set"
   ]
  },
  {
   "cell_type": "code",
   "execution_count": 2,
   "id": "46a07c6d",
   "metadata": {},
   "outputs": [],
   "source": [
    "# numbers\n",
    "x= 10\n",
    "y= 10.3\n",
    "n=10j\n",
    "num =5>6"
   ]
  },
  {
   "cell_type": "code",
   "execution_count": 3,
   "id": "8c8d40d8",
   "metadata": {},
   "outputs": [
    {
     "data": {
      "text/plain": [
       "{10, 20, 90}"
      ]
     },
     "execution_count": 3,
     "metadata": {},
     "output_type": "execute_result"
    }
   ],
   "source": [
    "#SET\n",
    "Myset ={10,20,90}\n",
    "Myset\n"
   ]
  },
  {
   "cell_type": "code",
   "execution_count": 20,
   "id": "57da6958",
   "metadata": {},
   "outputs": [
    {
     "name": "stdout",
     "output_type": "stream",
     "text": [
      "10\n",
      "20\n",
      "90\n"
     ]
    }
   ],
   "source": [
    "for x in Myset:\n",
    "    print(x)"
   ]
  },
  {
   "cell_type": "code",
   "execution_count": 21,
   "id": "c4594f23",
   "metadata": {},
   "outputs": [],
   "source": [
    "Myset.remove(10)"
   ]
  },
  {
   "cell_type": "code",
   "execution_count": 22,
   "id": "2add6a9b",
   "metadata": {},
   "outputs": [
    {
     "data": {
      "text/plain": [
       "{20, 90}"
      ]
     },
     "execution_count": 22,
     "metadata": {},
     "output_type": "execute_result"
    }
   ],
   "source": [
    "Myset\n"
   ]
  },
  {
   "cell_type": "code",
   "execution_count": null,
   "id": "3dfeeb55",
   "metadata": {},
   "outputs": [],
   "source": []
  },
  {
   "cell_type": "code",
   "execution_count": 4,
   "id": "c6dd09e8",
   "metadata": {},
   "outputs": [
    {
     "name": "stdout",
     "output_type": "stream",
     "text": [
      "Lower\n",
      "Done\n"
     ]
    }
   ],
   "source": [
    "# condition statement\n",
    "val=10\n",
    "num=20\n",
    "if val==num:\n",
    "    print(\"Equal\")\n",
    "elif val>num:\n",
    "    print('Grater')\n",
    "else:\n",
    "    print(\"Lower\")\n",
    "print(\"Done\")"
   ]
  },
  {
   "cell_type": "markdown",
   "id": "a23d1b83",
   "metadata": {},
   "source": [
    "## Identiyty operater\n",
    "### IS    ISNOT"
   ]
  },
  {
   "cell_type": "code",
   "execution_count": 5,
   "id": "53d25459",
   "metadata": {},
   "outputs": [],
   "source": [
    "list1=[10,20,30]\n",
    "list2=[10,20,30]"
   ]
  },
  {
   "cell_type": "code",
   "execution_count": 6,
   "id": "bc2cb928",
   "metadata": {},
   "outputs": [],
   "source": [
    "x=list1\n"
   ]
  },
  {
   "cell_type": "code",
   "execution_count": 7,
   "id": "374f5382",
   "metadata": {},
   "outputs": [
    {
     "data": {
      "text/plain": [
       "True"
      ]
     },
     "execution_count": 7,
     "metadata": {},
     "output_type": "execute_result"
    }
   ],
   "source": [
    "x is list1"
   ]
  },
  {
   "cell_type": "code",
   "execution_count": 8,
   "id": "be954830",
   "metadata": {},
   "outputs": [
    {
     "data": {
      "text/plain": [
       "False"
      ]
     },
     "execution_count": 8,
     "metadata": {},
     "output_type": "execute_result"
    }
   ],
   "source": [
    "list1 is list2"
   ]
  },
  {
   "cell_type": "code",
   "execution_count": 9,
   "id": "dc08a426",
   "metadata": {},
   "outputs": [
    {
     "data": {
      "text/plain": [
       "True"
      ]
     },
     "execution_count": 9,
     "metadata": {},
     "output_type": "execute_result"
    }
   ],
   "source": [
    "list1 is not list2"
   ]
  },
  {
   "cell_type": "markdown",
   "id": "64469e2a",
   "metadata": {},
   "source": [
    "## Membership operator"
   ]
  },
  {
   "cell_type": "code",
   "execution_count": 10,
   "id": "d8e2a5b7",
   "metadata": {},
   "outputs": [
    {
     "data": {
      "text/plain": [
       "False"
      ]
     },
     "execution_count": 10,
     "metadata": {},
     "output_type": "execute_result"
    }
   ],
   "source": [
    "x in list1"
   ]
  },
  {
   "cell_type": "code",
   "execution_count": 11,
   "id": "f10e2343",
   "metadata": {},
   "outputs": [
    {
     "data": {
      "text/plain": [
       "False"
      ]
     },
     "execution_count": 11,
     "metadata": {},
     "output_type": "execute_result"
    }
   ],
   "source": [
    "list1 in list2"
   ]
  },
  {
   "cell_type": "code",
   "execution_count": 12,
   "id": "2564be82",
   "metadata": {},
   "outputs": [
    {
     "data": {
      "text/plain": [
       "True"
      ]
     },
     "execution_count": 12,
     "metadata": {},
     "output_type": "execute_result"
    }
   ],
   "source": [
    "10 in list1\n"
   ]
  },
  {
   "cell_type": "code",
   "execution_count": 13,
   "id": "ff421d61",
   "metadata": {},
   "outputs": [
    {
     "data": {
      "text/plain": [
       "False"
      ]
     },
     "execution_count": 13,
     "metadata": {},
     "output_type": "execute_result"
    }
   ],
   "source": [
    "\"banana\" in list2\n"
   ]
  },
  {
   "cell_type": "code",
   "execution_count": 14,
   "id": "4e8bb313",
   "metadata": {},
   "outputs": [
    {
     "data": {
      "text/plain": [
       "True"
      ]
     },
     "execution_count": 14,
     "metadata": {},
     "output_type": "execute_result"
    }
   ],
   "source": [
    "list1 ==list2"
   ]
  },
  {
   "cell_type": "markdown",
   "id": "c3df1eff",
   "metadata": {},
   "source": [
    "## Bitwise Operator"
   ]
  },
  {
   "cell_type": "code",
   "execution_count": 15,
   "id": "a1b4ccd5",
   "metadata": {},
   "outputs": [
    {
     "data": {
      "text/plain": [
       "2046"
      ]
     },
     "execution_count": 15,
     "metadata": {},
     "output_type": "execute_result"
    }
   ],
   "source": [
    "1010 | 1100"
   ]
  },
  {
   "cell_type": "code",
   "execution_count": 16,
   "id": "c990d48d",
   "metadata": {},
   "outputs": [
    {
     "data": {
      "text/plain": [
       "2"
      ]
     },
     "execution_count": 16,
     "metadata": {},
     "output_type": "execute_result"
    }
   ],
   "source": [
    "10 >> 2"
   ]
  },
  {
   "cell_type": "code",
   "execution_count": 17,
   "id": "995e9d63",
   "metadata": {},
   "outputs": [
    {
     "data": {
      "text/plain": [
       "8"
      ]
     },
     "execution_count": 17,
     "metadata": {},
     "output_type": "execute_result"
    }
   ],
   "source": [
    "10 & 12"
   ]
  },
  {
   "cell_type": "code",
   "execution_count": 18,
   "id": "88c54d36",
   "metadata": {},
   "outputs": [
    {
     "data": {
      "text/plain": [
       "40"
      ]
     },
     "execution_count": 18,
     "metadata": {},
     "output_type": "execute_result"
    }
   ],
   "source": [
    "10<<2\n"
   ]
  },
  {
   "cell_type": "markdown",
   "id": "f3efddb3",
   "metadata": {},
   "source": [
    "#### Problem Stetement"
   ]
  },
  {
   "cell_type": "markdown",
   "id": "fe16c3e7",
   "metadata": {},
   "source": [
    "##### Store the indian world cup squad data for 2019. you should be able to display the data states of any player from the data"
   ]
  },
  {
   "cell_type": "code",
   "execution_count": 29,
   "id": "5a5e2513",
   "metadata": {},
   "outputs": [
    {
     "name": "stdout",
     "output_type": "stream",
     "text": [
      "9010\n",
      "27\n",
      "300\n",
      "6/42\n",
      "        Yuzi Chahal Bhuvneshwar Kumar\n",
      "matches          42               105\n",
      "Wickets          72               112\n",
      "Average        50.3              35.3\n",
      "Best           6/42              5/42\n",
      "   matches  Runs  Average  Highest Score\n",
      "1      206  9010     47.4            264\n"
     ]
    }
   ],
   "source": [
    "import pandas as pd\n",
    "squad = {\n",
    "    'Batsman': {\n",
    "        'Rohit Sharma': {\n",
    "            'matches': 206,\n",
    "            'Runs': 9010,\n",
    "            'Average': 47.4,\n",
    "            'Highest Score': 264\n",
    "        },\n",
    "        'Virat Kohli': {\n",
    "            'matches': 128,\n",
    "            'Runs': 5335,\n",
    "            'Average': 44.62,\n",
    "            'Highest Score': 260\n",
    "        }\n",
    "    },\n",
    "    'All-rounder': {\n",
    "        'Vijay Shankar': {\n",
    "            'matches': 9,\n",
    "            'Runs': 165,\n",
    "            'Average': 33.0,\n",
    "            'Wickets': 2\n",
    "        },\n",
    "        'Kedar Jadhav': {\n",
    "            'matches': 59,\n",
    "            'Runs': 1655,\n",
    "            'Average': 43.0,\n",
    "            'Wickets': 27\n",
    "        }\n",
    "    },\n",
    "    'Wktkeepers': {\n",
    "        'Doni': {\n",
    "            'matches': 234,\n",
    "            'Runs': 9510,\n",
    "            'Average': 77.4,\n",
    "            'Highest Score': 300\n",
    "        },\n",
    "        'KL Rahul': {\n",
    "            'matches': 106,\n",
    "            'Runs': 8010,\n",
    "            'Average': 37.4,\n",
    "            'Highest Score': 345\n",
    "        }\n",
    "    },\n",
    "    'Bowlers': {\n",
    "        'Yuzi Chahal': {\n",
    "            'matches': 42,\n",
    "            'Wickets': 72,\n",
    "            'Average': 50.3,\n",
    "            'Best': '6/42'\n",
    "        },\n",
    "        'Bhuvneshwar Kumar': {\n",
    "            'matches': 105,\n",
    "            'Wickets': 112,\n",
    "            'Average': 35.3,\n",
    "            'Best': '5/42'\n",
    "        }\n",
    "    }\n",
    "}\n",
    "\n",
    "# Accessing the data\n",
    "print(squad['Batsman']['Rohit Sharma']['Runs'])  # Output: 9010\n",
    "print(squad['All-rounder']['Kedar Jadhav']['Wickets'])  # Output: 27\n",
    "print(squad['Wktkeepers']['Doni']['Highest Score'])  # Output: 300\n",
    "print(squad['Bowlers']['Yuzi Chahal']['Best'])  # Output: 6/42\n",
    "\n",
    "\n",
    "df1=pd.DataFrame(squad['Batsman']['Rohit Sharma'],index=[1])\n",
    "df2=pd.DataFrame(squad['All-rounder']['Kedar Jadhav'],index=[1])\n",
    "df3=pd.DataFrame(squad['Wktkeepers']['Doni'],index=[1])\n",
    "df4=pd.DataFrame(squad['Bowlers']['Yuzi Chahal'],index=[1])\n",
    "\n",
    "df=pd.DataFrame(squad['Bowlers'])\n",
    "\n",
    "print(df)\n",
    "print(df1)\n"
   ]
  },
  {
   "cell_type": "markdown",
   "id": "b2117ef8",
   "metadata": {},
   "source": [
    "## Alittle Guessing Game"
   ]
  },
  {
   "cell_type": "code",
   "execution_count": null,
   "id": "e3bb6d1e",
   "metadata": {},
   "outputs": [],
   "source": [
    "import random\n",
    "n =20\n",
    "to_be_guessed = int(n *)"
   ]
  },
  {
   "cell_type": "code",
   "execution_count": null,
   "id": "9e817ae8",
   "metadata": {},
   "outputs": [],
   "source": []
  }
 ],
 "metadata": {
  "kernelspec": {
   "display_name": "Python 3 (ipykernel)",
   "language": "python",
   "name": "python3"
  },
  "language_info": {
   "codemirror_mode": {
    "name": "ipython",
    "version": 3
   },
   "file_extension": ".py",
   "mimetype": "text/x-python",
   "name": "python",
   "nbconvert_exporter": "python",
   "pygments_lexer": "ipython3",
   "version": "3.9.13"
  }
 },
 "nbformat": 4,
 "nbformat_minor": 5
}
